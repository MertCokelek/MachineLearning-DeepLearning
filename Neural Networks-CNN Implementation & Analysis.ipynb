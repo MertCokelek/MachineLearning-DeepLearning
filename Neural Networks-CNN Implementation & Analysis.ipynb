{
 "cells": [
  {
   "cell_type": "markdown",
   "metadata": {},
   "source": [
    "# HACETTEPE UNIVERSITY \n",
    "## DEPARTMENT OF COMPUTER SCIENCE\n",
    "## BBM 409 - FALL 2019\n",
    "### ASSIGNMENT 3 - IMPLEMENTING NEURAL NETWORKS AND CNN TO CLASSIFY HERB IMAGES\n",
    "* **NAME SURNAME: MERT ÇÖKELEK**\n",
    "* **ID: 21727082**\n",
    "* **DATE: 18.12.2019**\n",
    "\n",
    "# PART I: Theory Questions\n",
    "### Question 1\n",
    "\n",
    "* **v = x1*w1 + x2*w2 + x3*w3** \n",
    "* **\n",
    "* v = 3.x1 + (-5).x2 + 2.x3\n",
    "* **\n",
    "* **For Input 1:**\n",
    "* v1 = 3 +0 +0 = 3, Y1 = 1\n",
    "* **\n",
    "* **For Input 2:**\n",
    "* v2 = 0 +(-5) +2 = -3, Y2 = 0\n",
    "* **\n",
    "* **For Input 3:**\n",
    "* v3 = 3 +0 +2 = 5, Y3 = 1\n",
    "* **\n",
    "* **For Input 4:**\n",
    "* v4 = 3 +(-5) + 2 = 0, Y4 = 0\n",
    "* ***\n",
    "### Question 2\n",
    "* **Weight Number in This Network:**\n",
    "* **12**(Between Input-H1) **+7**(Between H2-H1) **+4**(Between Output-H2)\n",
    "* **= 23**\n",
    "* **\n",
    "* **Weight Number for a Fully Connected Layer:** (# Nodes in Layer_n+1 X # Nodes in Layer_n) for every layer except output.\n",
    "* **= ** 4x3 + 2x4 + 2x2**\n",
    "* **= 24**\n",
    "* **\n",
    "* **Dependencies For Forward Propagation:**\n",
    "* **1, 2, 3, 4:** Every Input nodes.\n",
    "* **5:** Every Input nodes + **{1, 2, 3, 4}**\n",
    "* **6:** Every Input nodes + **{1, 3, 4}**\n",
    "* **7, 8:** Every Input nodes + **{1, 2, 3, 4}** + **{5, 6}**\n",
    "* **\n",
    "* **Dependencies For Backward Propagation:**\n",
    "* **7, 8:** Every Output nodes.\n",
    "* **5, 6:** Every Output nodes + **{7, 8}**\n",
    "* **1, 3, 4:** Every Output nodes + **{7, 8}** + **{5, 6}**\n",
    "* **2:** Every Output nodes + **{7, 8}** + **5**\n",
    "* **\n",
    "### Question 3\n",
    "* **ADVANTAGE of FIRST ONE:**\n",
    "* **Faster**, since the # of calculations are less.\n",
    "* **\n",
    "* **ADVANTAGE of SECOND ONE:**\n",
    "* **More suitable for Complex Problems**, every hidden layer in the network changes the dimension of solution, better for non-linear and more complex problems.\n",
    "* **\n",
    "### Question 4\n",
    "- A\n",
    "\n",
    "* **Loss = L**\n",
    "* dw5 = dL/dw5\n",
    "* dw6 = dL/dw6\n",
    "* dw1 = dL/dw5 * dw5/dw1\n",
    "* dw2 = dL/dw6 * dw6/dw1\n",
    "\n",
    "\n",
    "* **Yes, it becomes a linear model.** Because when q=1, in the two cases output takes continuous and partitioned as positive and negative classes.\n",
    "* **\n",
    "### Question 5\n",
    "* **TRUE.** If a problem is linearly-separable, the suitable **line will eventually be generated** with parameter updates.\n",
    "* **\n",
    "* **FALSE.** XOR problem is **not linearly-separable**. Single perceptron can only solve linear-separable problems.\n",
    "* **\n",
    "* **FALSE.** The Learning Rate should start larger. Because the **loss curve** will have lesser **gradients**, after every epoch. **Lesser gradients and Lesser Learning Rate converges very slow.**\n",
    "* **\n"
   ]
  },
  {
   "cell_type": "markdown",
   "metadata": {},
   "source": [
    "# PART II: Classification of Herbs using Neural Network"
   ]
  },
  {
   "cell_type": "markdown",
   "metadata": {},
   "source": [
    "## 1    Dataset\n",
    "* The dataset contains 34225 herb images with total 683 classes.\n",
    "#### **The Approach for Reading Dataset:**\n",
    "* Take directory of the images from user.\n",
    "* Sort the images by name to be able to match them with corresponding labels in csv file.\n",
    "* Split the dataset into **Train (80%) and Test(20%) sets.**\n",
    "* Convert the images into numpy arrays and resize them to a smaller size for fast execution.\n",
    "* Merge the Train and Validation sets into seperate Pandas DataFrames."
   ]
  },
  {
   "cell_type": "code",
   "execution_count": 1,
   "metadata": {},
   "outputs": [
    {
     "name": "stdout",
     "output_type": "stream",
     "text": [
      "Please enter the directory of the images.C:\\Users\\100me\\Desktop\\train_resized\\train_resized\\\n"
     ]
    }
   ],
   "source": [
    "import numpy as np\n",
    "import pandas as pd\n",
    "from PIL import Image\n",
    "import os\n",
    "\n",
    "# READ THE DATA FROM OS DIRECTORY.\n",
    "#C:\\Users\\100me\\Desktop\\train_resized\\train_resized\\\n",
    "dir = input(\"Please enter the directory of the images.\")\n",
    "directory =dir\n",
    "files = os.listdir(directory)\n",
    "labels = pd.read_csv('Train_Info.csv')\n",
    "\n",
    "# SORT THE IMAGE FILES BY NAME.\n",
    "for i in range(len(files)):\n",
    "    files[i] = files[i].split(\".\")[0]\n",
    "files.sort(key=int)\n",
    "for i in range(len(files)):\n",
    "    files[i] = files[i] + \".jpg\"\n",
    "\n",
    "# # 80% TRAIN ; 20% TEST\n",
    "train_size = 4 * labels.shape[0] // 5\n",
    "\n",
    "# SPLIT THE DATA INTO TRAIN AND TEST.\n",
    "train_files = files[:train_size]\n",
    "test_files = files[train_size:]\n",
    "\n",
    "# CONVERT IMAGES TO NUMPY ARRAYS.\n",
    "x_Train = np.zeros((27380, 16*16))\n",
    "for i in range(len(train_files)):\n",
    "    img = np.array(Image.open(directory + train_files[i]).convert('L').resize((16, 16))) / 255.\n",
    "    img = img.reshape(1, -1)\n",
    "    x_Train[i] = img\n",
    "    \n",
    "x_Test = np.zeros((6845, 16*16))\n",
    "for i in range(len(test_files)):\n",
    "    img = np.array(Image.open(directory + test_files[i]).convert('L').resize((16,16))) / 255.\n",
    "    img = img.reshape(1, -1)\n",
    "    x_Test[i] = img\n",
    "    \n",
    "Train_DF = pd.DataFrame(x_Train, labels['Class'][:train_size])\n",
    "Test_DF = pd.DataFrame(x_Test, labels['Class'][train_size:])"
   ]
  },
  {
   "cell_type": "markdown",
   "metadata": {},
   "source": [
    "## 2    Multi Layer Neural Network\n",
    "### HELPER FUNCTIONS\n",
    "* Here are some helper functions for implementing a dynamic neural network.\n",
    "### 2.1- Activation Functions\n",
    "###### -------------------------------------------------------------------------------------------------------------------------------------------------------------------------------------------------------\n",
    "* Used for **forward propagation**, the activation input to a node (layer) is transformed to a different form.\n",
    "* **To make the network non-linear.**"
   ]
  },
  {
   "cell_type": "code",
   "execution_count": 2,
   "metadata": {},
   "outputs": [],
   "source": [
    "# ACTIVATION FUNCTIOSN\n",
    "def sigmoid(Z):    \n",
    "    A = 1/(1+np.exp(-Z))\n",
    "    cache = Z\n",
    "    return A, cache\n",
    "\n",
    "def relu(Z):\n",
    "    A = np.maximum(0.001, Z)\n",
    "    cache = Z \n",
    "    return A, cache\n",
    "\n",
    "def tanh(Z):\n",
    "    cache = Z\n",
    "    A = np.tanh(Z)\n",
    "    return A, cache\n",
    "\n",
    "def softmax(a, axis=0):\n",
    "    cache = a\n",
    "    from scipy.special import logsumexp\n",
    "    lse = logsumexp(a, axis=axis)  # this reduces along axis\n",
    "    if axis is not None:\n",
    "        lse = np.expand_dims(lse, axis)  # restore that axis for subtraction\n",
    "    return np.exp(a - lse), cache"
   ]
  },
  {
   "cell_type": "markdown",
   "metadata": {},
   "source": [
    "### 2.2- Initialize Parameters\n",
    "* **\n",
    "* Used at the beginning of the model.\n",
    "* Arguments: **Layer Dimensions** (of form list **[Input_Layer_Nodes, Hidden_Layer_Nodes,Output_Layer_Nodes]**)\n",
    "* **random**:Randomly initialize or initialize with zeros.\n",
    "* **"
   ]
  },
  {
   "cell_type": "code",
   "execution_count": 3,
   "metadata": {},
   "outputs": [],
   "source": [
    "# INITIALIZE PARAMETERS.\n",
    "# If random == True, than weight and bias will be random.\n",
    "# else, they will be initially 0.\n",
    "\n",
    "def initialize_parameters(layer_dims, random=True):  \n",
    "    np.random.seed(32)\n",
    "    parameters = {}\n",
    "    L = len(layer_dims)            # number of layers in the network\n",
    "    if random:\n",
    "        for l in range(1, L):\n",
    "            parameters['W' + str(l)] = np.random.randn(layer_dims[l], layer_dims[l-1]) * 0.01\n",
    "            parameters['b' + str(l)] = np.zeros((layer_dims[l], 1))\n",
    "    else:\n",
    "        for l in range(1, L):\n",
    "            parameters['W' + str(l)] = np.zeros((layer_dims[l], layer_dims[l-1]))\n",
    "            parameters['b' + str(l)] = np.zeros((layer_dims[l], 1))\n",
    "    return parameters"
   ]
  },
  {
   "cell_type": "markdown",
   "metadata": {},
   "source": [
    "***\n",
    "### 2.3- Forward Propagation\n",
    "***\n",
    "* After getting the parameters (weights), **there are 3 steps to make a forward-pass.**\n",
    "* **1. linear_forward():** Simply returns Activation x Weight + Bias for that layer.\n",
    "* **2. activation_forward():** Transforms the activation input from previous function into a non-linear form.\n",
    "* **2.1.** Either 'relu, sigmoid, tanh, softmax'.\n",
    "* **3. forward_propagate():** Calls the **activation_forward()** function for every single layer, starting from input to output, and returns a prediction.\n",
    "***\n",
    "#### Note: These functions also return 'caches', which are necessary for backward propagation. Gradient descent and parameter updates are depending on these caches. Caches hold weights, biases, activations.\n",
    "***"
   ]
  },
  {
   "cell_type": "code",
   "execution_count": 4,
   "metadata": {},
   "outputs": [],
   "source": [
    "def linear_forward(A, W, b):\n",
    "    # For a layer, single step to propagate to next layer.\n",
    "    # A := Activations from prev.layer.\n",
    "    # W := Weights of that layer.\n",
    "    # b := Bias that that layer.\n",
    "    \n",
    "    # Z := Outputs of the nodes in this layer.\n",
    "    # cache := A, W, b. Stored for future backward prop. on this layer.\n",
    "\n",
    "    Z = np.dot(W, A) + b\n",
    "    cache = (A, W, b) \n",
    "    \n",
    "    return Z, cache\n",
    "\n",
    "def activation_forward(A_prev, W, b, activation):\n",
    "    # For a layer, the output of the nodes are transformed with activation functions.\n",
    "    # A_prev := Activations from prev. layer\n",
    "    # W, b := Weight, bias of the layer\n",
    "    # activation := activation function <sigmoid | tanh | relu | softmax>\n",
    "    \n",
    "    # A := activation(Z)\n",
    "    # cache := linear cache - activation cache. For backward pass.\n",
    "    \n",
    "    if activation == 'relu':\n",
    "        Z, linear_cache = linear_forward(A_prev, W, b)\n",
    "        A, activation_cache = relu(Z)\n",
    "        \n",
    "    elif activation == 'sigmoid':\n",
    "        Z, linear_cache = linear_forward(A_prev, W, b)\n",
    "        A, activation_cache = sigmoid(Z)\n",
    "        \n",
    "    elif activation == 'tanh':\n",
    "        Z, linear_cache = linear_forward(A_prev, W, b)\n",
    "        A, activation_cache = tanh(Z)\n",
    "        \n",
    "    elif activation == 'softmax':\n",
    "        Z, linear_cache = linear_forward(A_prev, W, b)\n",
    "        A, activation_cache = softmax(Z)\n",
    "    \n",
    "    cache = (linear_cache, activation_cache)\n",
    "\n",
    "    return A, cache\n",
    "\n",
    "def forward_propagate(X, parameters, activate, output_activate):\n",
    "    # L = Number of layers\n",
    "    # X = input images\n",
    "    # parameters: output of initialize_parameters()\n",
    "    \n",
    "    # AL: Last layer's activation values\n",
    "    # caches: every cache of activation_forward()\n",
    "    \n",
    "    caches = []\n",
    "    A = X\n",
    "    L = len(parameters) // 2                  # number of layers in the neural network\n",
    "    \n",
    "    # Implement [LINEAR -> ACTIVATE]*(L-1). Add \"cache\" to the \"caches\" list.\n",
    "    for l in range(1, L):\n",
    "        A_prev = A \n",
    "        A, cache = activation_forward(A_prev, parameters['W'+str(l)], parameters['b'+str(l)], activation=activate)\n",
    "        caches.append(cache)\n",
    "    \n",
    "    # Create output. Add \"cache\" to the \"caches\" list.\n",
    "    AL, cache = activation_forward(A, parameters['W'+str(L)], parameters['b'+str(L)], activation=output_activate)  \n",
    "    caches.append(cache)\n",
    "            \n",
    "    return AL, caches"
   ]
  },
  {
   "cell_type": "markdown",
   "metadata": {},
   "source": [
    "***\n",
    "### 2.4- Cost\n",
    "***\n",
    "* Used at the end of each forward pass.\n",
    "* **Arguments:** Prediction and Ground-truth matrices.\n",
    "* Calculates the loss (in this case **negative log-likelihood / cross_entropy**)\n",
    "* Used for testing the model."
   ]
  },
  {
   "cell_type": "code",
   "execution_count": 5,
   "metadata": {},
   "outputs": [],
   "source": [
    "# LOSS FUNCTIONS.\n",
    "def negative_log_likelihood(AL, Y):\n",
    "        mul = Y * AL\n",
    "        cost = np.sum(-np.log(mul[mul.nonzero()])) / AL.shape[1]\n",
    "        return cost\n",
    "    \n",
    "def cross_entropy_loss(p, y):\n",
    "    assert(p.shape == y.shape)\n",
    "    m = p.shape[1]\n",
    "    return (1./m) * (-np.sum(y * np.log(p)))"
   ]
  },
  {
   "cell_type": "markdown",
   "metadata": {},
   "source": [
    "***\n",
    "### 2.5- Backward Propagation\n",
    "***\n",
    "* Backward Propagation consists of 2 main steps.\n",
    "* 1. Calculating Gradients.\n",
    "* 2. Applying Gradient-Descent\n",
    "\n",
    "* To calculate gradients, we need the derivatives of the activation functions.\n",
    "***\n",
    "#### 2.5.1- Derivatives of Activation Functions\n",
    "***"
   ]
  },
  {
   "cell_type": "code",
   "execution_count": 6,
   "metadata": {},
   "outputs": [],
   "source": [
    "############# DERIVATIVES FOR ACTIVATION FUNCTIONS #################\n",
    "def sigmoid_backward(dA, cache):    \n",
    "    Z = cache\n",
    "    s = 1/(1+np.exp(-Z))\n",
    "    dZ = dA * s * (1-s)\n",
    "    assert (dZ.shape == Z.shape)\n",
    "    \n",
    "    return dZ\n",
    "\n",
    "def tanh_backward(dA, cache):\n",
    "    Z = cache\n",
    "    t, _ = tanh(Z)\n",
    "    dZ = dA * (1 - t**2)\n",
    "    \n",
    "    assert (dZ.shape == Z.shape)\n",
    "    return dZ\n",
    "def relu_backward(dA, cache):  \n",
    "    Z = cache\n",
    "    dZ = np.array(dA, copy=True)\n",
    "    dZ[Z <= 0] = 0.001\n",
    "    assert (dZ.shape == Z.shape)\n",
    "    \n",
    "    return dZ\n",
    "\n",
    "def softmax_backward(dA, cache):\n",
    "    Z = cache\n",
    "    s, c = softmax(Z)\n",
    "    dZ = dA * s * (1-s)\n",
    "    return dZ\n",
    "\n",
    "def Softmax_backward(dA, cache):\n",
    "    Z = cache\n",
    "    return dA\n",
    "\n",
    "# Derivative of loss, w.r.t softmax function. Used at output-layer.\n",
    "def grad_cross_entropy(p, y):\n",
    "    return p - y"
   ]
  },
  {
   "cell_type": "markdown",
   "metadata": {},
   "source": [
    "***\n",
    "## So far, the forward-propagation and loss-calculation are done.\n",
    "***\n",
    "### Now, the model has to do backward-propagation (gradient descent, parameter updates) to increase accuracy and performance.\n",
    "\n",
    "### 2.5- Backward Propagation\n",
    "***\n",
    "* After completing forward-pass, loss-calculation, **there are 3 steps to make a backward-pass.**\n",
    "* **1. linear_backward():** Simply returns derivatives of loss with respect to that layer.\n",
    "* **2. activation_backward():** Transforms the derivatives from previous function into the corresponding functions.\n",
    "* **2.1.** Either 'relu, sigmoid, tanh, softmax'.\n",
    "* **3. backward_propagate():** Calls the **activation_backward()** function for every single layer, starting from output to input, and returns the gradients of the layers, wrt loss.\n",
    "***"
   ]
  },
  {
   "cell_type": "code",
   "execution_count": 7,
   "metadata": {},
   "outputs": [],
   "source": [
    "def linear_backward(dZ, cache):\n",
    "    A_prev, W, b = cache\n",
    "    m = A_prev.shape[1]\n",
    "\n",
    "    dW = 1./m * np.dot(dZ,A_prev.T)\n",
    "    db = 1./m * np.sum(dZ, axis=1, keepdims=True)\n",
    "    dA_prev = np.dot(W.T,dZ)\n",
    "    return dA_prev, dW, db\n",
    "\n",
    "def activation_backward(dA, cache, activation):\n",
    "    linear_cache, activation_cache = cache\n",
    "    \n",
    "    if activation == 'relu':\n",
    "        dZ = relu_backward(dA, activation_cache) \n",
    "    elif activation == 'softmax':\n",
    "        dZ = softmax_backward(dA, activation_cache)\n",
    "    elif activation == 'tanh':\n",
    "        dZ = tanh_backward(dA, activation_cache)\n",
    "    elif activation == 'sigmoid':\n",
    "        dZ = sigmoid_backward(dA, activation_cache)\n",
    "    \n",
    "    dA_prev, dW, db = linear_backward(dZ, linear_cache)\n",
    "\n",
    "    return dA_prev, dW, db\n",
    "\n",
    "\n",
    "def backward_propagation(AL, Y, caches, activate, output_activate):\n",
    "    grads = {};\n",
    "    L = len(caches); # the number of layers\n",
    "    m = AL.shape[1];\n",
    "    Y = Y.reshape(AL.shape);\n",
    "\n",
    "    # Initializing the backpropagation\n",
    "    dAL = grad_cross_entropy(AL, Y)\n",
    "    \n",
    "    dA_prev, dW, db = activation_backward(dAL, caches[L - 1], output_activate);\n",
    "    grads[\"dA\" + str(L-1)], grads[\"dW\" + str(L)], grads[\"db\" + str(L)] = dA_prev, dW, db;\n",
    "\n",
    "    for l in reversed(range(L-1)):\n",
    "        current_cache = caches[l]\n",
    "        dA_prev_temp, dW_temp, db_temp = activation_backward(grads[\"dA\" + str(l + 1)], current_cache, activate)\n",
    "        grads[\"dA\" + str(l)] = dA_prev_temp\n",
    "        grads[\"dW\" + str(l + 1)] = dW_temp\n",
    "        grads[\"db\" + str(l + 1)] = db_temp\n",
    "\n",
    "    return grads;"
   ]
  },
  {
   "cell_type": "markdown",
   "metadata": {},
   "source": [
    "***\n",
    "#### The gradients are calculated in the previous step, now update the parameters(weights) using Gradient-Descent\n",
    "***"
   ]
  },
  {
   "cell_type": "code",
   "execution_count": 8,
   "metadata": {},
   "outputs": [],
   "source": [
    "def update_parameters(parameters, grads, learning_rate):\n",
    "    L = len(parameters) // 2       # number of layers in the neural network\n",
    "\n",
    "    # For every layer, gradient descent.\n",
    "    for l in range(L):\n",
    "        parameters[\"W\" + str(l + 1)] -= learning_rate * grads[\"dW\" + str(l + 1)];\n",
    "        parameters[\"b\" + str(l + 1)] -= learning_rate * grads[\"db\" + str(l + 1)];\n",
    "    return parameters;"
   ]
  },
  {
   "cell_type": "markdown",
   "metadata": {},
   "source": [
    "***\n",
    "### All the helper functions are defined.\n",
    "### Now, it's time to use them in our 'Model'.\n",
    "***"
   ]
  },
  {
   "cell_type": "code",
   "execution_count": 9,
   "metadata": {},
   "outputs": [],
   "source": [
    "import matplotlib.pyplot as plt\n",
    "def Model(trainDF, testDF, layerDims, batch_size, learning_rate, epochs, activate, output_activate, random_initialize):\n",
    "    np.random.seed(26)\n",
    "    costs1 = []                         # Train costs\n",
    "    costs2 = []                         # Test costs\n",
    "    \n",
    "    # Parameters initialization.\n",
    "    parameters = initialize_parameters(layerDims);\n",
    "\n",
    "    # LOOP (FORWARD -> LOSS -> BACKWARD -> FORWARD ...)\n",
    "    \n",
    "    # Number of batches\n",
    "    batch_train = int(trainDF.shape[0] / batch_size)\n",
    "    batch_test = int(testDF.shape[0] / batch_size)\n",
    "    for epoch in range(epochs):\n",
    "        total_train_loss = 0\n",
    "        total_test_loss = 0\n",
    "        \n",
    "        prev_train_batch = 0\n",
    "        prev_test_batch = 0\n",
    "        \n",
    "        for batch in range(batch_test):\n",
    "            test = testDF[prev_test_batch: prev_test_batch + batch_size]\n",
    "            prev_test_batch += batch_size\n",
    "            xtest = test.T.values\n",
    "            ytest = test.index.values\n",
    "            ytest = np.eye(683)[ytest.squeeze()].T\n",
    "        \n",
    "            AL2, caches2 = forward_propagate(xtest, parameters, activate, 'softmax')         # Predictions for Test samples\n",
    "            cost2 =  negative_log_likelihood(AL2, ytest)                         # Loss for Test samples.\n",
    "            total_test_loss += cost2\n",
    "            \n",
    "        for batch in range(batch_train):\n",
    "            train = trainDF[prev_train_batch: prev_train_batch + batch_size]\n",
    "            prev_train_batch += batch_size\n",
    "            xtrain = train.T.values\n",
    "            ytrain = train.index.values\n",
    "            ytrain = np.eye(683)[ytrain.squeeze()].T\n",
    "            \n",
    "            AL1, caches1 = forward_propagate(xtrain, parameters, activate, 'softmax')        # Forward propagation\n",
    "            cost1 = negative_log_likelihood(AL1, ytrain)                          # Compute loss for Train\n",
    "            total_train_loss += cost1\n",
    "            grads = backward_propagation(AL1, ytrain, caches1, activate, output_activate)          # Backward propagation, w.r.t Train.\n",
    "            parameters = update_parameters(parameters, grads, learning_rate)      # Update parameters.\n",
    "\n",
    "\n",
    "        total_train_loss /= (27380) # Train size\n",
    "        total_test_loss /= (6485)   # Test size\n",
    "        total_train_loss *= (100) # Train size\n",
    "        total_test_loss *= (100)   # Test size\n",
    "        print(\"Epoch: \", epoch, \"\\tTrainLoss: \", total_train_loss, \"\\tTestLoss: \", total_test_loss)\n",
    "        costs1.append(total_train_loss)\n",
    "        costs2.append(total_test_loss)\n",
    "        \n",
    "        Costs = [costs1, costs2]\n",
    "    return Costs, parameters"
   ]
  },
  {
   "cell_type": "code",
   "execution_count": 10,
   "metadata": {},
   "outputs": [],
   "source": [
    "def plot(loss, batch_size, lr, col):\n",
    "    plt.plot(np.squeeze(loss),  color =col)\n",
    "    if(col == 'orange'):\n",
    "        plt.ylabel('Train Loss')\n",
    "    else:\n",
    "        plt.ylabel('Test Loss')\n",
    "    plt.xlabel('Epoch')\n",
    "    plt.title(\"      Batch Size: %d, Learning Rate: %s.\" % (batch_size, lr))\n",
    "    \n",
    "    plt.show()\n",
    "    \n",
    "def model(traindf, testdf, layerdimensions, batch_sz, lr, epochs, activation, output_activation, init_random):\n",
    "    loss, params = Model(traindf, testdf, layerdimensions, batch_sz, float(lr), epochs, activation, output_activation, init_random)\n",
    "    plot(loss[0], batch_sz, lr, 'orange')\n",
    "    plot(loss[1], batch_sz, lr, 'blue')\n",
    "    \n",
    "    # Calculate accuracy for train set.\n",
    "    xtrain = traindf.T.values\n",
    "    ytrain = traindf.index.values\n",
    "    ytrain = np.eye(683)[ytrain.squeeze()].T\n",
    "    \n",
    "    # Calculate accuracy for validation set.\n",
    "    xtest = testdf.T.values\n",
    "    ytest = testdf.index.values\n",
    "    ytest = np.eye(683)[ytest.squeeze()].T\n",
    "    \n",
    "    predictions1, _ = forward_propagate(xtest, params, activation, output_activation)\n",
    "    test_correct_preds = np.intersect1d(predictions1.argmax(axis=1), ytest.argmax(axis=1)).size\n",
    "    test_accuracy = 100 * test_correct_preds / 6845\n",
    "    \n",
    "    predictions2, _ = forward_propagate(xtrain, params, activation, output_activation)\n",
    "    train_correct_preds = np.intersect1d(predictions2.argmax(axis=1), ytrain.argmax(axis=1)).size\n",
    "    train_accuracy = 100 * train_correct_preds / 27380\n",
    "    \n",
    "    return loss, train_accuracy, test_accuracy"
   ]
  },
  {
   "cell_type": "markdown",
   "metadata": {},
   "source": [
    "# ANALYSIS OF MODEL\n",
    "## 1. Plotting Train-Test Losses.\n",
    "***\n"
   ]
  },
  {
   "cell_type": "markdown",
   "metadata": {},
   "source": [
    "* First, let's use different combinations of activation functions.\n",
    "***\n",
    "### 1- Output Activation: Sigmoid\n",
    "* Sigmoid is mostly used for **binary classification**, let's analyze its performance on **683** classes.\n",
    "* **BLUE LINES: TEST LOSS**\n",
    "* **ORANGE LINES: TRAIN LOSS**"
   ]
  },
  {
   "cell_type": "code",
   "execution_count": 11,
   "metadata": {},
   "outputs": [
    {
     "name": "stdout",
     "output_type": "stream",
     "text": [
      "Epoch:  0 \tTrainLoss:  0.6435975206574446 \tTestLoss:  0.6038402124407404\n",
      "Epoch:  1 \tTrainLoss:  0.6435849481844037 \tTestLoss:  0.60384472794764\n",
      "Epoch:  2 \tTrainLoss:  0.6435723805521879 \tTestLoss:  0.6038492251357543\n",
      "Epoch:  3 \tTrainLoss:  0.6435597876274674 \tTestLoss:  0.6038537132311276\n",
      "Epoch:  4 \tTrainLoss:  0.6435471699964889 \tTestLoss:  0.6038582399382243\n",
      "Epoch:  5 \tTrainLoss:  0.643534545900316 \tTestLoss:  0.6038628012715392\n",
      "Epoch:  6 \tTrainLoss:  0.6435219377023724 \tTestLoss:  0.6038673703092755\n",
      "Epoch:  7 \tTrainLoss:  0.6435093563362209 \tTestLoss:  0.6038719485590762\n",
      "Epoch:  8 \tTrainLoss:  0.6434967979466496 \tTestLoss:  0.6038765307480092\n",
      "Epoch:  9 \tTrainLoss:  0.6434842436322149 \tTestLoss:  0.6038811140729519\n"
     ]
    },
    {
     "data": {
      "image/png": "[encoded data removed]",
      "text/plain": [
       "<Figure size 432x288 with 1 Axes>"
      ]
     },
     "metadata": {
      "needs_background": "light"
     },
     "output_type": "display_data"
    },
    {
     "data": {
      "image/png": "[encoded data removed]",
      "text/plain": [
       "<Figure size 432x288 with 1 Axes>"
      ]
     },
     "metadata": {
      "needs_background": "light"
     },
     "output_type": "display_data"
    }
   ],
   "source": [
    "Layers1 = [16*16, 128, 64, 683]\n",
    "batchSize1 = 1000\n",
    "activation1 = 'relu'\n",
    "output_activation1 = 'sigmoid'\n",
    "LR = str(0.005)\n",
    "loss1, trainacc1, testacc1= model(Train_DF, Test_DF, Layers1, batchSize1, LR, 10,  activation1, output_activation1, True)"
   ]
  },
  {
   "cell_type": "markdown",
   "metadata": {},
   "source": [
    "* As seen, the train loss decreased but test loss increased dramatically.\n",
    "* **So, sigmoid is not a good choice.**\n",
    "### Why?\n",
    "* **Because Sigmoid implies '0' and '1' results for extreme points.**\n",
    "* This is a **bad** situation **for 683 classes.**\n",
    "\n",
    "### 2- Output Activation: Softmax\n",
    "* Softmax is mostly used for **multi-class classification**, let's analyze its performance on **683** classes.\n",
    "* **BLUE LINES: TEST LOSS**\n",
    "* **ORANGE LINES: TRAIN LOSS**\n",
    "#### 2.1- With 'tanh' activations"
   ]
  },
  {
   "cell_type": "code",
   "execution_count": 12,
   "metadata": {},
   "outputs": [
    {
     "name": "stdout",
     "output_type": "stream",
     "text": [
      "Epoch:  0 \tTrainLoss:  0.6435914567751894 \tTestLoss:  0.6038367050574333\n",
      "Epoch:  1 \tTrainLoss:  0.6435913816678498 \tTestLoss:  0.603836732380627\n",
      "Epoch:  2 \tTrainLoss:  0.6435913065603823 \tTestLoss:  0.6038367597038496\n",
      "Epoch:  3 \tTrainLoss:  0.6435912314527867 \tTestLoss:  0.6038367870271013\n",
      "Epoch:  4 \tTrainLoss:  0.6435911563450634 \tTestLoss:  0.6038368143503817\n",
      "Epoch:  5 \tTrainLoss:  0.6435910812372113 \tTestLoss:  0.6038368416736914\n",
      "Epoch:  6 \tTrainLoss:  0.6435910061292316 \tTestLoss:  0.60383686899703\n",
      "Epoch:  7 \tTrainLoss:  0.6435909310211241 \tTestLoss:  0.6038368963203975\n",
      "Epoch:  8 \tTrainLoss:  0.6435908559128882 \tTestLoss:  0.6038369236437942\n",
      "Epoch:  9 \tTrainLoss:  0.6435907808045244 \tTestLoss:  0.6038369509672197\n"
     ]
    },
    {
     "data": {
      "image/png": "[encoded data removed]",
      "text/plain": [
       "<Figure size 432x288 with 1 Axes>"
      ]
     },
     "metadata": {
      "needs_background": "light"
     },
     "output_type": "display_data"
    },
    {
     "data": {
      "image/png": "[encoded data removed]",
      "text/plain": [
       "<Figure size 432x288 with 1 Axes>"
      ]
     },
     "metadata": {
      "needs_background": "light"
     },
     "output_type": "display_data"
    }
   ],
   "source": [
    "Layers2 = [16*16, 128, 64, 683]\n",
    "batchSize2 = 1000\n",
    "activation2 = 'tanh'\n",
    "output_activation2 = 'softmax'\n",
    "LR = str(0.005)\n",
    "loss2, trainacc2, testacc2= model(Train_DF, Test_DF, Layers2, batchSize2, LR, 10,  activation2, output_activation2, True)"
   ]
  },
  {
   "cell_type": "markdown",
   "metadata": {},
   "source": [
    "* Even if we used **Softmax**, it is still not a good model.\n",
    "* The problem is not with **Softmax**, it is about **tanh**.\n",
    "* Because **tanh** is just like **sigmoid**, it takes **binary values in extremum points**, which is useless for **multi-class classification.** \n",
    "***\n",
    "\n",
    "#### 2.2- With 'ReLU' activations:\n",
    "* **RelU** seems to be a **good choice for multi-class** classification.\n",
    "* Because it does not take limited values **in extreme cases**, and it **is non-linear**.\n",
    "* **BLUE LINES: TEST LOSS**\n",
    "* **ORANGE LINES: TRAIN LOSS**"
   ]
  },
  {
   "cell_type": "code",
   "execution_count": 13,
   "metadata": {
    "scrolled": false
   },
   "outputs": [
    {
     "name": "stdout",
     "output_type": "stream",
     "text": [
      "Epoch:  0 \tTrainLoss:  0.643596109463105 \tTestLoss:  0.6038402124407404\n",
      "Epoch:  1 \tTrainLoss:  0.6435960287782512 \tTestLoss:  0.60384017189222\n",
      "Epoch:  2 \tTrainLoss:  0.6435959481364673 \tTestLoss:  0.6038401164827979\n",
      "Epoch:  3 \tTrainLoss:  0.643595837817648 \tTestLoss:  0.6038400552061128\n",
      "Epoch:  4 \tTrainLoss:  0.6435957038398552 \tTestLoss:  0.6038400355595637\n",
      "Epoch:  5 \tTrainLoss:  0.6435955613196532 \tTestLoss:  0.6038400508285171\n",
      "Epoch:  6 \tTrainLoss:  0.6435954311350061 \tTestLoss:  0.6038400694788633\n",
      "Epoch:  7 \tTrainLoss:  0.6435953231659552 \tTestLoss:  0.6038400930702632\n",
      "Epoch:  8 \tTrainLoss:  0.6435952331280151 \tTestLoss:  0.6038401198037873\n",
      "Epoch:  9 \tTrainLoss:  0.6435951499940283 \tTestLoss:  0.6038401470585806\n"
     ]
    },
    {
     "data": {
      "image/png": "[encoded data removed]",
      "text/plain": [
       "<Figure size 432x288 with 1 Axes>"
      ]
     },
     "metadata": {
      "needs_background": "light"
     },
     "output_type": "display_data"
    },
    {
     "data": {
      "image/png": "[encoded data removed]",
      "text/plain": [
       "<Figure size 432x288 with 1 Axes>"
      ]
     },
     "metadata": {
      "needs_background": "light"
     },
     "output_type": "display_data"
    }
   ],
   "source": [
    "Layers = [16*16, 128, 64, 683]\n",
    "batchSize = 1000\n",
    "activation = 'relu'\n",
    "output_activation = 'softmax'\n",
    "LR = 0.005\n",
    "loss, trainacc, testacc= model(Train_DF, Test_DF, Layers, batchSize, LR, 10,  activation, output_activation, True)"
   ]
  },
  {
   "cell_type": "markdown",
   "metadata": {},
   "source": [
    "### Bingo!\n",
    "***\n",
    "* With using **ReLU** as activation function **in hidden layers**, and **softmax in output** layer;\n",
    "* **Train Loss decreases by every iteration/epoch.**\n",
    "* **Test Loss First decreases, then increases.**\n",
    "* **The increase in test loss** is something **we want**, because the point of **minima of the curve** shows us the **perfect point to stop training.**.\n",
    "* For example at epoch 4, we can stop training and start to make predictions.\n",
    "***\n",
    "## These plots were only a hint, on choosing the appropriate model.\n",
    "* We learned that we **shouldn't use** activation functions as **tanh, sigmoid**.\n",
    "* The optimum model should contain **ReLU** in hidden layers and **Softmax** in output layer.\n",
    "\n",
    "***\n",
    "## Now, let's discover the effects of hyperparameters on the 'ReLU - Softmax' model.\n",
    "### Hyperparameters:\n",
    "#### Learning Rate, Number of Epochs, Batch Size\n",
    "***"
   ]
  },
  {
   "cell_type": "code",
   "execution_count": 72,
   "metadata": {},
   "outputs": [],
   "source": [
    "Learning_Rates = [0.005, 0.01, 0.25]\n",
    "BatchSizes = [32, 512]\n",
    "Layer_Dimensions_2D = [[256, 32, 16, 683], [256, 512, 256, 683]]"
   ]
  },
  {
   "cell_type": "code",
   "execution_count": 73,
   "metadata": {},
   "outputs": [],
   "source": [
    "def create_table_of_hyperparameters(traindf, testdf,layer_dimensions, learning_rates, number_of_epochs, batch_sizes):\n",
    "    Losses_WRT_Hyperparameters = dict()\n",
    "    i = 0\n",
    "    for layerdimensions in layer_dimensions:\n",
    "        for learning_rate in Learning_Rates:\n",
    "            for batch_size in BatchSizes:\n",
    "                print(i, \"-------------\")\n",
    "                i+=1\n",
    "                loss,_ = Model(traindf, testdf, layerdimensions, batch_size, learning_rate, 10, 'relu', 'softmax', True)\n",
    "                hptrain = str(layerdimensions) +\" \"+ str(learning_rate)  +\" \"+  str(10)  +\" \"+ str(batch_size)  +\" \"+  \"Train Loss\"\n",
    "                hptest = str(layerdimensions) +\" \"+ str(learning_rate)  +\" \"+  str(10)  +\" \"+ str(batch_size)  +\" \"+  \"Test Loss\"\n",
    "                trainloss = loss[0]\n",
    "                testloss = loss[1]\n",
    "                Losses_WRT_Hyperparameters[hptrain] = min(trainloss)\n",
    "                Losses_WRT_Hyperparameters[hptest] = min(testloss)\n",
    "    return Losses_WRT_Hyperparameters"
   ]
  },
  {
   "cell_type": "markdown",
   "metadata": {},
   "source": [
    "* **Approach:** \n",
    "* Create 3 different arrays for the hyperparameters\n",
    "* Make a **3.degree for loop** and **calculate** every single **losses for train and test**.\n",
    "* **\n",
    "### 1. Neural Network with 2 Hidden Layers\n",
    "* **OUTPUT FORMAT:**\n",
    "* Python Dictionary of format **{ [ Layer Dimension, Learning Rate, Batch Size ], Accuracy }**"
   ]
  },
  {
   "cell_type": "code",
   "execution_count": 74,
   "metadata": {
    "scrolled": true
   },
   "outputs": [
    {
     "name": "stdout",
     "output_type": "stream",
     "text": [
      "0 -------------\n",
      "Epoch:  0 \tTrainLoss:  20.380382238508645 \tTestLoss:  21.436405659966944\n",
      "Epoch:  1 \tTrainLoss:  20.38030911027853 \tTestLoss:  21.436437302950935\n",
      "Epoch:  2 \tTrainLoss:  20.38023702468574 \tTestLoss:  21.436469916869612\n",
      "Epoch:  3 \tTrainLoss:  20.380166604625373 \tTestLoss:  21.436511492803813\n",
      "Epoch:  4 \tTrainLoss:  20.38009558745505 \tTestLoss:  21.436556023788896\n",
      "Epoch:  5 \tTrainLoss:  20.380025728000163 \tTestLoss:  21.43660402397202\n",
      "Epoch:  6 \tTrainLoss:  20.379957732640904 \tTestLoss:  21.436653251119456\n",
      "Epoch:  7 \tTrainLoss:  20.379895399912954 \tTestLoss:  21.436712337011354\n",
      "Epoch:  8 \tTrainLoss:  20.379826562376007 \tTestLoss:  21.436767823252133\n",
      "Epoch:  9 \tTrainLoss:  20.379758308545114 \tTestLoss:  21.436826657591794\n",
      "1 -------------\n",
      "Epoch:  0 \tTrainLoss:  1.2633468658337077 \tTestLoss:  1.3083250915628744\n",
      "Epoch:  1 \tTrainLoss:  1.2633465252354101 \tTestLoss:  1.3083252273319004\n",
      "Epoch:  2 \tTrainLoss:  1.2633461731297844 \tTestLoss:  1.3083252772648273\n",
      "Epoch:  3 \tTrainLoss:  1.2633458379199562 \tTestLoss:  1.3083253553892011\n",
      "Epoch:  4 \tTrainLoss:  1.2633455365463313 \tTestLoss:  1.3083255096396735\n",
      "Epoch:  5 \tTrainLoss:  1.2633452572532586 \tTestLoss:  1.308325698147054\n",
      "Epoch:  6 \tTrainLoss:  1.2633449769687877 \tTestLoss:  1.3083259047950686\n",
      "Epoch:  7 \tTrainLoss:  1.2633447112573024 \tTestLoss:  1.3083261333350658\n",
      "Epoch:  8 \tTrainLoss:  1.2633444483126235 \tTestLoss:  1.3083263004643284\n",
      "Epoch:  9 \tTrainLoss:  1.2633441724476422 \tTestLoss:  1.3083264146561149\n",
      "2 -------------\n",
      "Epoch:  0 \tTrainLoss:  20.38036009575385 \tTestLoss:  21.436405659966944\n",
      "Epoch:  1 \tTrainLoss:  20.38021162196994 \tTestLoss:  21.43647020395407\n",
      "Epoch:  2 \tTrainLoss:  20.380070430914436 \tTestLoss:  21.436556208368103\n",
      "Epoch:  3 \tTrainLoss:  20.379935347951 \tTestLoss:  21.43665346486127\n",
      "Epoch:  4 \tTrainLoss:  20.3798051475786 \tTestLoss:  21.436768347077287\n",
      "Epoch:  5 \tTrainLoss:  20.379670365016764 \tTestLoss:  21.436891107046627\n",
      "Epoch:  6 \tTrainLoss:  20.37953710880858 \tTestLoss:  21.437037114838116\n",
      "Epoch:  7 \tTrainLoss:  20.37940565759978 \tTestLoss:  21.43721318170448\n",
      "Epoch:  8 \tTrainLoss:  20.379276222546885 \tTestLoss:  21.437428527343652\n",
      "Epoch:  9 \tTrainLoss:  20.379148784767192 \tTestLoss:  21.437695610719768\n",
      "3 -------------\n",
      "Epoch:  0 \tTrainLoss:  1.263346877056101 \tTestLoss:  1.3083250915628744\n",
      "Epoch:  1 \tTrainLoss:  1.26334617197347 \tTestLoss:  1.3083252779419172\n",
      "Epoch:  2 \tTrainLoss:  1.2633455457893137 \tTestLoss:  1.3083255096518822\n",
      "Epoch:  3 \tTrainLoss:  1.26334499626527 \tTestLoss:  1.3083259042215611\n",
      "Epoch:  4 \tTrainLoss:  1.2633444753733512 \tTestLoss:  1.3083263004382475\n",
      "Epoch:  5 \tTrainLoss:  1.2633439182141981 \tTestLoss:  1.3083265266670525\n",
      "Epoch:  6 \tTrainLoss:  1.2633433523082689 \tTestLoss:  1.3083267515983603\n",
      "Epoch:  7 \tTrainLoss:  1.2633427778544837 \tTestLoss:  1.308326955898524\n",
      "Epoch:  8 \tTrainLoss:  1.2633421926265358 \tTestLoss:  1.3083271134841334\n",
      "Epoch:  9 \tTrainLoss:  1.2633415938317891 \tTestLoss:  1.3083271991303365\n",
      "4 -------------\n",
      "Epoch:  0 \tTrainLoss:  55.4969294394299 \tTestLoss:  21.436405659966944\n",
      "Epoch:  1 \tTrainLoss:  213.93036493458112 \tTestLoss:  606.9004801248502\n",
      "Epoch:  2 \tTrainLoss:  0.0 \tTestLoss:  0.0\n",
      "Epoch:  3 \tTrainLoss:  0.0 \tTestLoss:  0.0\n",
      "Epoch:  4 \tTrainLoss:  0.0 \tTestLoss:  0.0\n",
      "Epoch:  5 \tTrainLoss:  0.0 \tTestLoss:  0.0\n",
      "Epoch:  6 \tTrainLoss:  0.0 \tTestLoss:  0.0\n",
      "Epoch:  7 \tTrainLoss:  0.0 \tTestLoss:  0.0\n",
      "Epoch:  8 \tTrainLoss:  0.0 \tTestLoss:  0.0\n",
      "Epoch:  9 \tTrainLoss:  0.0 \tTestLoss:  0.0\n",
      "5 -------------\n",
      "Epoch:  0 \tTrainLoss:  1.263347624870863 \tTestLoss:  1.3083250915628744\n",
      "Epoch:  1 \tTrainLoss:  1.2633335334051992 \tTestLoss:  1.308332253460925\n",
      "Epoch:  2 \tTrainLoss:  1.2633201922925508 \tTestLoss:  1.308341667700082\n",
      "Epoch:  3 \tTrainLoss:  1.263307176078374 \tTestLoss:  1.3083533922440755\n",
      "Epoch:  4 \tTrainLoss:  1.2632939849888432 \tTestLoss:  1.308367666617071\n",
      "Epoch:  5 \tTrainLoss:  1.2632810176145552 \tTestLoss:  1.3083868944610608\n",
      "Epoch:  6 \tTrainLoss:  1.263268280018455 \tTestLoss:  1.30841366507438\n",
      "Epoch:  7 \tTrainLoss:  1.2632556208062742 \tTestLoss:  1.3084520860430928\n",
      "Epoch:  8 \tTrainLoss:  1.2632424333650638 \tTestLoss:  1.3085087130218682\n",
      "Epoch:  9 \tTrainLoss:  1.2632269148498017 \tTestLoss:  1.3085941616723071\n",
      "6 -------------\n",
      "Epoch:  0 \tTrainLoss:  20.379770150641317 \tTestLoss:  21.43734330244646\n",
      "Epoch:  1 \tTrainLoss:  20.379052337786966 \tTestLoss:  21.438941131587814\n",
      "Epoch:  2 \tTrainLoss:  20.37792086454485 \tTestLoss:  21.441722231042935\n",
      "Epoch:  3 \tTrainLoss:  20.375773680371378 \tTestLoss:  21.447014387351835\n",
      "Epoch:  4 \tTrainLoss:  20.3715953330408 \tTestLoss:  21.457622263980085\n",
      "Epoch:  5 \tTrainLoss:  20.363326646321113 \tTestLoss:  21.47995919932539\n",
      "Epoch:  6 \tTrainLoss:  20.346148970753163 \tTestLoss:  21.530064355175156\n",
      "Epoch:  7 \tTrainLoss:  20.30363946650976 \tTestLoss:  21.652496179535586\n",
      "Epoch:  8 \tTrainLoss:  20.03002417503015 \tTestLoss:  21.98695022835224\n",
      "Epoch:  9 \tTrainLoss:  26.58572813314366 \tTestLoss:  22.609234549651852\n",
      "7 -------------\n",
      "Epoch:  0 \tTrainLoss:  1.2633121032307904 \tTestLoss:  1.308400655400447\n",
      "Epoch:  1 \tTrainLoss:  1.2633128150014818 \tTestLoss:  1.3084009928186608\n",
      "Epoch:  2 \tTrainLoss:  1.2633128588762184 \tTestLoss:  1.3084024957694624\n",
      "Epoch:  3 \tTrainLoss:  1.2633123354579838 \tTestLoss:  1.3084053476787452\n",
      "Epoch:  4 \tTrainLoss:  1.2633113768363282 \tTestLoss:  1.3084090914968232\n",
      "Epoch:  5 \tTrainLoss:  1.263309820624706 \tTestLoss:  1.3084137045654884\n",
      "Epoch:  6 \tTrainLoss:  1.2633077303639522 \tTestLoss:  1.3084192256219478\n",
      "Epoch:  7 \tTrainLoss:  1.263305334261264 \tTestLoss:  1.3084254122538115\n",
      "Epoch:  8 \tTrainLoss:  1.2633030650087693 \tTestLoss:  1.3084320246424244\n",
      "Epoch:  9 \tTrainLoss:  1.2633008045868463 \tTestLoss:  1.3084384958190884\n",
      "8 -------------\n",
      "Epoch:  0 \tTrainLoss:  20.379454770497343 \tTestLoss:  21.43734330244646\n",
      "Epoch:  1 \tTrainLoss:  20.376818756377133 \tTestLoss:  21.441681759865038\n",
      "Epoch:  2 \tTrainLoss:  20.36680931812284 \tTestLoss:  21.457448008382734\n",
      "Epoch:  3 \tTrainLoss:  20.31291842071025 \tTestLoss:  21.529261937373207\n",
      "Epoch:  4 \tTrainLoss:  32.347088376969566 \tTestLoss:  21.98871947018512\n",
      "Epoch:  5 \tTrainLoss:  264.2903121074981 \tTestLoss:  124.28263278097968\n",
      "Epoch:  6 \tTrainLoss:  1082.9302897823395 \tTestLoss:  585.7400980832579\n",
      "Epoch:  7 \tTrainLoss:  13.836171130242242 \tTestLoss:  199.5987418158272\n",
      "Epoch:  8 \tTrainLoss:  0.0 \tTestLoss:  0.0\n",
      "Epoch:  9 \tTrainLoss:  0.0 \tTestLoss:  0.0\n",
      "9 -------------\n",
      "Epoch:  0 \tTrainLoss:  1.2633136845941684 \tTestLoss:  1.308400655400447\n",
      "Epoch:  1 \tTrainLoss:  1.2633133662138731 \tTestLoss:  1.3084025114117561\n",
      "Epoch:  2 \tTrainLoss:  1.263311052511942 \tTestLoss:  1.3084090987777826\n",
      "Epoch:  3 \tTrainLoss:  1.2633069370562082 \tTestLoss:  1.3084192211999128\n",
      "Epoch:  4 \tTrainLoss:  1.263302224446431 \tTestLoss:  1.3084320378040104\n",
      "Epoch:  5 \tTrainLoss:  1.263297557752549 \tTestLoss:  1.3084451811108182\n",
      "Epoch:  6 \tTrainLoss:  1.2632927204660047 \tTestLoss:  1.3084596067996135\n",
      "Epoch:  7 \tTrainLoss:  1.2632877768539041 \tTestLoss:  1.3084771572941822\n",
      "Epoch:  8 \tTrainLoss:  1.2632823718277362 \tTestLoss:  1.3084964613783598\n",
      "Epoch:  9 \tTrainLoss:  1.26327666877037 \tTestLoss:  1.308515753889203\n",
      "10 -------------\n",
      "Epoch:  0 \tTrainLoss:  31.47662303001354 \tTestLoss:  21.43734330244646\n",
      "Epoch:  1 \tTrainLoss:  0.0 \tTestLoss:  0.0\n",
      "Epoch:  2 \tTrainLoss:  0.0 \tTestLoss:  0.0\n",
      "Epoch:  3 \tTrainLoss:  0.0 \tTestLoss:  0.0\n",
      "Epoch:  4 \tTrainLoss:  0.0 \tTestLoss:  0.0\n",
      "Epoch:  5 \tTrainLoss:  0.0 \tTestLoss:  0.0\n",
      "Epoch:  6 \tTrainLoss:  0.0 \tTestLoss:  0.0\n",
      "Epoch:  7 \tTrainLoss:  0.0 \tTestLoss:  0.0\n",
      "Epoch:  8 \tTrainLoss:  0.0 \tTestLoss:  0.0\n",
      "Epoch:  9 \tTrainLoss:  0.0 \tTestLoss:  0.0\n",
      "11 -------------\n",
      "Epoch:  0 \tTrainLoss:  1.2632657812484185 \tTestLoss:  1.308400655400447\n",
      "Epoch:  1 \tTrainLoss:  1.2628551097937102 \tTestLoss:  1.3090236534036257\n",
      "Epoch:  2 \tTrainLoss:  1.2636770720696169 \tTestLoss:  1.314643556720397\n",
      "Epoch:  3 \tTrainLoss:  1.3087777008491106 \tTestLoss:  1.366134822758598\n",
      "Epoch:  4 \tTrainLoss:  1.2633677964822425 \tTestLoss:  1.3083259181731932\n",
      "Epoch:  5 \tTrainLoss:  1.263354009507171 \tTestLoss:  1.3083316036359833\n",
      "Epoch:  6 \tTrainLoss:  1.263340220389466 \tTestLoss:  1.3083372895852032\n",
      "Epoch:  7 \tTrainLoss:  1.2633264291280355 \tTestLoss:  1.3083429760212901\n",
      "Epoch:  8 \tTrainLoss:  1.263312635721785 \tTestLoss:  1.3083486629446812\n",
      "Epoch:  9 \tTrainLoss:  1.2632988401696188 \tTestLoss:  1.3083543503558146\n"
     ]
    }
   ],
   "source": [
    "Losses_2D =create_table_of_hyperparameters(Train_DF, Test_DF, Layer_Dimensions_2D, Learning_Rates, NumberOfEpochs, BatchSizes)"
   ]
  },
  {
   "cell_type": "markdown",
   "metadata": {},
   "source": [
    "### 2. Neural Network with 1 Hidden Layer\n",
    "* **OUTPUT FORMAT:**\n",
    "* Python Dictionary of format **{ [ Layer Dimension, Learning Rate, Batch Size ], Accuracy }**"
   ]
  },
  {
   "cell_type": "code",
   "execution_count": 98,
   "metadata": {
    "scrolled": true
   },
   "outputs": [
    {
     "name": "stdout",
     "output_type": "stream",
     "text": [
      "0 -------------\n",
      "Epoch:  0 \tTrainLoss:  20.38050122634448 \tTestLoss:  21.436183843903574\n",
      "Epoch:  1 \tTrainLoss:  20.38026455966095 \tTestLoss:  21.436412973557537\n",
      "Epoch:  2 \tTrainLoss:  20.380036600737313 \tTestLoss:  21.43678680589219\n",
      "Epoch:  3 \tTrainLoss:  20.379770987874217 \tTestLoss:  21.43695614157524\n",
      "Epoch:  4 \tTrainLoss:  20.379613246204354 \tTestLoss:  21.437144395751616\n",
      "Epoch:  5 \tTrainLoss:  20.379519673525518 \tTestLoss:  21.437137637344136\n",
      "Epoch:  6 \tTrainLoss:  20.379423763398602 \tTestLoss:  21.437120601038963\n",
      "Epoch:  7 \tTrainLoss:  20.379320131836852 \tTestLoss:  21.437083516120975\n",
      "Epoch:  8 \tTrainLoss:  20.379194141412622 \tTestLoss:  21.437000867554776\n",
      "Epoch:  9 \tTrainLoss:  20.378996381842935 \tTestLoss:  21.43667072342474\n",
      "1 -------------\n",
      "Epoch:  0 \tTrainLoss:  1.26334786910956 \tTestLoss:  1.3083144013977601\n",
      "Epoch:  1 \tTrainLoss:  1.2633481344054378 \tTestLoss:  1.3083204487851208\n",
      "Epoch:  2 \tTrainLoss:  1.2633496731706313 \tTestLoss:  1.3083230473146104\n",
      "Epoch:  3 \tTrainLoss:  1.2633515905613786 \tTestLoss:  1.3083239669330349\n",
      "Epoch:  4 \tTrainLoss:  1.2633520197530659 \tTestLoss:  1.308323859114156\n",
      "Epoch:  5 \tTrainLoss:  1.2633509768849316 \tTestLoss:  1.3083232985339412\n",
      "Epoch:  6 \tTrainLoss:  1.2633492579382388 \tTestLoss:  1.3083217779617382\n",
      "Epoch:  7 \tTrainLoss:  1.2633473133453106 \tTestLoss:  1.308319736695828\n",
      "Epoch:  8 \tTrainLoss:  1.2633460984348805 \tTestLoss:  1.308318895096211\n",
      "Epoch:  9 \tTrainLoss:  1.2633454404393532 \tTestLoss:  1.3083197582867123\n",
      "2 -------------\n",
      "Epoch:  0 \tTrainLoss:  20.38056439974227 \tTestLoss:  21.436183843903574\n",
      "Epoch:  1 \tTrainLoss:  20.379995370974438 \tTestLoss:  21.436794447879485\n",
      "Epoch:  2 \tTrainLoss:  20.379575733902946 \tTestLoss:  21.437148050945265\n",
      "Epoch:  3 \tTrainLoss:  20.37938189609666 \tTestLoss:  21.437129121065976\n",
      "Epoch:  4 \tTrainLoss:  20.37907525775733 \tTestLoss:  21.43702502244052\n",
      "Epoch:  5 \tTrainLoss:  20.378955997003725 \tTestLoss:  21.4364592345032\n",
      "Epoch:  6 \tTrainLoss:  20.37879247632513 \tTestLoss:  21.436379661124146\n",
      "Epoch:  7 \tTrainLoss:  20.378620275707547 \tTestLoss:  21.43643602505697\n",
      "Epoch:  8 \tTrainLoss:  20.378448006526096 \tTestLoss:  21.436490278328737\n",
      "Epoch:  9 \tTrainLoss:  20.378275318280526 \tTestLoss:  21.436542180874145\n",
      "3 -------------\n",
      "Epoch:  0 \tTrainLoss:  1.263347862081106 \tTestLoss:  1.3083144013977601\n",
      "Epoch:  1 \tTrainLoss:  1.263350869306944 \tTestLoss:  1.3083231187412017\n",
      "Epoch:  2 \tTrainLoss:  1.26335173349983 \tTestLoss:  1.3083238615695005\n",
      "Epoch:  3 \tTrainLoss:  1.2633486048149614 \tTestLoss:  1.3083217827790954\n",
      "Epoch:  4 \tTrainLoss:  1.26334615619711 \tTestLoss:  1.3083188969013255\n",
      "Epoch:  5 \tTrainLoss:  1.2633452612724951 \tTestLoss:  1.308320794576998\n",
      "Epoch:  6 \tTrainLoss:  1.2633449692045637 \tTestLoss:  1.3083223531090056\n",
      "Epoch:  7 \tTrainLoss:  1.2633434349734103 \tTestLoss:  1.3083229563033918\n",
      "Epoch:  8 \tTrainLoss:  1.2633409756548974 \tTestLoss:  1.3083304202728607\n",
      "Epoch:  9 \tTrainLoss:  1.2633380206866145 \tTestLoss:  1.3083423079439762\n",
      "4 -------------\n",
      "Epoch:  0 \tTrainLoss:  20.378266664484475 \tTestLoss:  21.436183843903574\n",
      "Epoch:  1 \tTrainLoss:  20.373642244206447 \tTestLoss:  21.437446023897287\n",
      "Epoch:  2 \tTrainLoss:  20.369191669427032 \tTestLoss:  21.438348517066302\n",
      "Epoch:  3 \tTrainLoss:  20.363891790344862 \tTestLoss:  21.440274298626864\n",
      "Epoch:  4 \tTrainLoss:  20.35760172820195 \tTestLoss:  21.442443325194557\n",
      "Epoch:  5 \tTrainLoss:  20.349717200378787 \tTestLoss:  21.445046765480775\n",
      "Epoch:  6 \tTrainLoss:  20.33928385933787 \tTestLoss:  21.44839402490993\n",
      "Epoch:  7 \tTrainLoss:  20.324726455245166 \tTestLoss:  21.45300887975626\n",
      "Epoch:  8 \tTrainLoss:  20.303392482770935 \tTestLoss:  21.459759939926688\n",
      "Epoch:  9 \tTrainLoss:  20.270619966988026 \tTestLoss:  21.470139051968335\n",
      "5 -------------\n",
      "Epoch:  0 \tTrainLoss:  1.2633599426758866 \tTestLoss:  1.3083144013977601\n",
      "Epoch:  1 \tTrainLoss:  1.2633070402172701 \tTestLoss:  1.3083675289477676\n",
      "Epoch:  2 \tTrainLoss:  1.2632845584988728 \tTestLoss:  1.3083743301387787\n",
      "Epoch:  3 \tTrainLoss:  1.263257890658878 \tTestLoss:  1.3083391090134673\n",
      "Epoch:  4 \tTrainLoss:  1.2632468591974397 \tTestLoss:  1.3083229670457905\n",
      "Epoch:  5 \tTrainLoss:  1.2632299224456591 \tTestLoss:  1.3083282112655958\n",
      "Epoch:  6 \tTrainLoss:  1.2632129831008643 \tTestLoss:  1.3083330607758996\n",
      "Epoch:  7 \tTrainLoss:  1.2631958920398354 \tTestLoss:  1.308337510878757\n",
      "Epoch:  8 \tTrainLoss:  1.2631785732653418 \tTestLoss:  1.3083410309172288\n",
      "Epoch:  9 \tTrainLoss:  1.2631566770985068 \tTestLoss:  1.308341779152653\n",
      "6 -------------\n",
      "Epoch:  0 \tTrainLoss:  20.383967558881412 \tTestLoss:  21.433736317489984\n",
      "Epoch:  1 \tTrainLoss:  20.383142744897228 \tTestLoss:  21.43123997781088\n",
      "Epoch:  2 \tTrainLoss:  20.382690535773108 \tTestLoss:  21.431563652600065\n",
      "Epoch:  3 \tTrainLoss:  20.38225973213622 \tTestLoss:  21.43173834440983\n",
      "Epoch:  4 \tTrainLoss:  20.38204363398949 \tTestLoss:  21.431772487830724\n",
      "Epoch:  5 \tTrainLoss:  20.381779723284403 \tTestLoss:  21.431800086405172\n",
      "Epoch:  6 \tTrainLoss:  20.38146123254771 \tTestLoss:  21.431867377374772\n",
      "Epoch:  7 \tTrainLoss:  20.38123084873093 \tTestLoss:  21.431821987046916\n",
      "Epoch:  8 \tTrainLoss:  20.380842898094432 \tTestLoss:  21.431533427194008\n",
      "Epoch:  9 \tTrainLoss:  20.380422839738515 \tTestLoss:  21.431370441837515\n",
      "7 -------------\n",
      "Epoch:  0 \tTrainLoss:  1.2635834521113323 \tTestLoss:  1.3081466164673876\n",
      "Epoch:  1 \tTrainLoss:  1.2635798037267707 \tTestLoss:  1.3081321619313497\n",
      "Epoch:  2 \tTrainLoss:  1.2635761343625538 \tTestLoss:  1.308113367783395\n",
      "Epoch:  3 \tTrainLoss:  1.2635729284652186 \tTestLoss:  1.308097346823142\n",
      "Epoch:  4 \tTrainLoss:  1.2635708790697613 \tTestLoss:  1.3080834852731782\n",
      "Epoch:  5 \tTrainLoss:  1.263569582449897 \tTestLoss:  1.3080699228560353\n",
      "Epoch:  6 \tTrainLoss:  1.263570768484668 \tTestLoss:  1.308058533000145\n",
      "Epoch:  7 \tTrainLoss:  1.2635742267625139 \tTestLoss:  1.3080500492667138\n",
      "Epoch:  8 \tTrainLoss:  1.2635756117615238 \tTestLoss:  1.3080410138916565\n",
      "Epoch:  9 \tTrainLoss:  1.2635732026922848 \tTestLoss:  1.3080318539940672\n",
      "8 -------------\n",
      "Epoch:  0 \tTrainLoss:  20.383311165554293 \tTestLoss:  21.433736317489984\n",
      "Epoch:  1 \tTrainLoss:  20.382419312598245 \tTestLoss:  21.431522938340375\n",
      "Epoch:  2 \tTrainLoss:  20.381960863714973 \tTestLoss:  21.431771095414387\n",
      "Epoch:  3 \tTrainLoss:  20.381487481926065 \tTestLoss:  21.431854216874786\n",
      "Epoch:  4 \tTrainLoss:  20.380640590231756 \tTestLoss:  21.43144202180772\n",
      "Epoch:  5 \tTrainLoss:  20.379849496254792 \tTestLoss:  21.43159284387657\n",
      "Epoch:  6 \tTrainLoss:  20.379368861020897 \tTestLoss:  21.432193860432587\n",
      "Epoch:  7 \tTrainLoss:  20.37879143872177 \tTestLoss:  21.432511475850717\n",
      "Epoch:  8 \tTrainLoss:  20.3778567106785 \tTestLoss:  21.433002542079542\n",
      "Epoch:  9 \tTrainLoss:  20.377807857000168 \tTestLoss:  21.434383529663645\n",
      "9 -------------\n",
      "Epoch:  0 \tTrainLoss:  1.2635821019099598 \tTestLoss:  1.3081466164673876\n",
      "Epoch:  1 \tTrainLoss:  1.263574787206653 \tTestLoss:  1.3081135209234698\n",
      "Epoch:  2 \tTrainLoss:  1.2635704377910733 \tTestLoss:  1.3080836247671392\n",
      "Epoch:  3 \tTrainLoss:  1.263572023900634 \tTestLoss:  1.3080584844017318\n",
      "Epoch:  4 \tTrainLoss:  1.2635733131015836 \tTestLoss:  1.308040966823672\n",
      "Epoch:  5 \tTrainLoss:  1.2635649410308416 \tTestLoss:  1.3080237941668598\n",
      "Epoch:  6 \tTrainLoss:  1.2635523754501405 \tTestLoss:  1.3080061652904147\n",
      "Epoch:  7 \tTrainLoss:  1.2635467569793029 \tTestLoss:  1.3079891847510325\n",
      "Epoch:  8 \tTrainLoss:  1.2635409808582394 \tTestLoss:  1.3079818406759802\n",
      "Epoch:  9 \tTrainLoss:  1.2635323620278482 \tTestLoss:  1.3079781571854954\n",
      "10 -------------\n",
      "Epoch:  0 \tTrainLoss:  20.379245253601322 \tTestLoss:  21.433736317489984\n",
      "Epoch:  1 \tTrainLoss:  20.367678087601128 \tTestLoss:  21.435128697617976\n",
      "Epoch:  2 \tTrainLoss:  20.356695619672884 \tTestLoss:  21.44082691962919\n",
      "Epoch:  3 \tTrainLoss:  20.342471772509864 \tTestLoss:  21.446224045435812\n",
      "Epoch:  4 \tTrainLoss:  20.322613464538623 \tTestLoss:  21.452092300961727\n",
      "Epoch:  5 \tTrainLoss:  20.292624175405365 \tTestLoss:  21.461865099077983\n",
      "Epoch:  6 \tTrainLoss:  20.244917465844598 \tTestLoss:  21.477142247320952\n",
      "Epoch:  7 \tTrainLoss:  20.163466085276934 \tTestLoss:  21.502601198052513\n",
      "Epoch:  8 \tTrainLoss:  20.00359868313627 \tTestLoss:  21.549398313745886\n",
      "Epoch:  9 \tTrainLoss:  19.641469714993452 \tTestLoss:  21.664530301721648\n",
      "11 -------------\n",
      "Epoch:  0 \tTrainLoss:  1.2635157463970492 \tTestLoss:  1.3081466164673876\n",
      "Epoch:  1 \tTrainLoss:  1.2634494752276249 \tTestLoss:  1.3079996203899427\n",
      "Epoch:  2 \tTrainLoss:  1.2634102289016387 \tTestLoss:  1.3079962728658074\n",
      "Epoch:  3 \tTrainLoss:  1.2633261273202239 \tTestLoss:  1.307972469452456\n",
      "Epoch:  4 \tTrainLoss:  1.2632724819376984 \tTestLoss:  1.3080203115703084\n",
      "Epoch:  5 \tTrainLoss:  1.2632011304597373 \tTestLoss:  1.308048105208075\n",
      "Epoch:  6 \tTrainLoss:  1.263169043600693 \tTestLoss:  1.308133830727053\n",
      "Epoch:  7 \tTrainLoss:  1.2631202164229889 \tTestLoss:  1.3081554150866204\n",
      "Epoch:  8 \tTrainLoss:  1.2630815769340167 \tTestLoss:  1.3081700006998376\n",
      "Epoch:  9 \tTrainLoss:  1.2630369475368075 \tTestLoss:  1.3081762348786132\n"
     ]
    }
   ],
   "source": [
    "Layer_Dimensions_1D = [[256, 32, 683], [256, 256, 683]]\n",
    "Losses_1D =create_table_of_hyperparameters(Train_DF, Test_DF, Layer_Dimensions_1D, Learning_Rates, NumberOfEpochs, BatchSizes)"
   ]
  },
  {
   "cell_type": "code",
   "execution_count": 101,
   "metadata": {},
   "outputs": [
    {
     "name": "stdout",
     "output_type": "stream",
     "text": [
      "0 -------------\n",
      "Epoch:  0 \tTrainLoss:  20.36629070610014 \tTestLoss:  21.55287381376315\n",
      "Epoch:  1 \tTrainLoss:  20.35567819273435 \tTestLoss:  21.55719979568568\n",
      "Epoch:  2 \tTrainLoss:  20.344988564261982 \tTestLoss:  21.56154697363508\n",
      "Epoch:  3 \tTrainLoss:  20.33421998787277 \tTestLoss:  21.565916262430672\n",
      "Epoch:  4 \tTrainLoss:  20.32337057159794 \tTestLoss:  21.570308627762365\n",
      "Epoch:  5 \tTrainLoss:  20.312438362362613 \tTestLoss:  21.5747250901554\n",
      "Epoch:  6 \tTrainLoss:  20.301421344053168 \tTestLoss:  21.579166729312725\n",
      "Epoch:  7 \tTrainLoss:  20.29031743562105 \tTestLoss:  21.583634688877265\n",
      "Epoch:  8 \tTrainLoss:  20.279124489248805 \tTestLoss:  21.588130181661214\n",
      "Epoch:  9 \tTrainLoss:  20.2678402886097 \tTestLoss:  21.592654495395468\n",
      "1 -------------\n",
      "Epoch:  0 \tTrainLoss:  1.2627545632006818 \tTestLoss:  1.3154830221284093\n",
      "Epoch:  1 \tTrainLoss:  1.2627132177021663 \tTestLoss:  1.315499536945043\n",
      "Epoch:  2 \tTrainLoss:  1.2626718538521844 \tTestLoss:  1.3155160566695454\n",
      "Epoch:  3 \tTrainLoss:  1.2626304716241024 \tTestLoss:  1.315532581314623\n",
      "Epoch:  4 \tTrainLoss:  1.2625890709912295 \tTestLoss:  1.3155491108930255\n",
      "Epoch:  5 \tTrainLoss:  1.2625476519268244 \tTestLoss:  1.3155656454175435\n",
      "Epoch:  6 \tTrainLoss:  1.2625062144040908 \tTestLoss:  1.3155821849010094\n",
      "Epoch:  7 \tTrainLoss:  1.2624647583961799 \tTestLoss:  1.3155987293562987\n",
      "Epoch:  8 \tTrainLoss:  1.262423283876188 \tTestLoss:  1.3156152787963278\n",
      "Epoch:  9 \tTrainLoss:  1.2623817908171597 \tTestLoss:  1.3156318332340564\n",
      "2 -------------\n",
      "Epoch:  0 \tTrainLoss:  20.3623850275182 \tTestLoss:  21.55287381376315\n",
      "Epoch:  1 \tTrainLoss:  20.341029489607553 \tTestLoss:  21.561542104891544\n",
      "Epoch:  2 \tTrainLoss:  20.319355609915625 \tTestLoss:  21.57029867152168\n",
      "Epoch:  3 \tTrainLoss:  20.297347882183157 \tTestLoss:  21.579151433844356\n",
      "Epoch:  4 \tTrainLoss:  20.27498979362952 \tTestLoss:  21.588109255192016\n",
      "Epoch:  5 \tTrainLoss:  20.25226376974814 \tTestLoss:  21.597182100774656\n",
      "Epoch:  6 \tTrainLoss:  20.229151127226487 \tTestLoss:  21.606381229404032\n",
      "Epoch:  7 \tTrainLoss:  20.205632041426995 \tTestLoss:  21.61571942622634\n",
      "Epoch:  8 \tTrainLoss:  20.18168553793716 \tTestLoss:  21.62521128663396\n",
      "Epoch:  9 \tTrainLoss:  20.15728952215035 \tTestLoss:  21.634873564262193\n",
      "3 -------------\n",
      "Epoch:  0 \tTrainLoss:  1.262757694481836 \tTestLoss:  1.3154830221284093\n",
      "Epoch:  1 \tTrainLoss:  1.2626750170045036 \tTestLoss:  1.3155160519962896\n",
      "Epoch:  2 \tTrainLoss:  1.262592266154769 \tTestLoss:  1.3155491015221665\n",
      "Epoch:  3 \tTrainLoss:  1.2625094417198452 \tTestLoss:  1.3155821708079833\n",
      "Epoch:  4 \tTrainLoss:  1.2624265434861 \tTestLoss:  1.3156152599563498\n",
      "Epoch:  5 \tTrainLoss:  1.2623435712390507 \tTestLoss:  1.3156483690705525\n",
      "Epoch:  6 \tTrainLoss:  1.2622605247633647 \tTestLoss:  1.3156814982545582\n",
      "Epoch:  7 \tTrainLoss:  1.2621774038428493 \tTestLoss:  1.315714647613021\n",
      "Epoch:  8 \tTrainLoss:  1.2620942082604536 \tTestLoss:  1.3157478172512889\n",
      "Epoch:  9 \tTrainLoss:  1.262010937798264 \tTestLoss:  1.3157810072754095\n",
      "4 -------------\n",
      "Epoch:  0 \tTrainLoss:  20.14329918953187 \tTestLoss:  21.55287381376315\n",
      "Epoch:  1 \tTrainLoss:  19.37365184178454 \tTestLoss:  21.812596943366845\n",
      "Epoch:  2 \tTrainLoss:  18.68434931461145 \tTestLoss:  22.09320252899089\n",
      "Epoch:  3 \tTrainLoss:  18.535212590049685 \tTestLoss:  22.331687016018144\n",
      "Epoch:  4 \tTrainLoss:  18.514631977030316 \tTestLoss:  22.508810014388565\n",
      "Epoch:  5 \tTrainLoss:  18.27114290930054 \tTestLoss:  22.72711134069644\n",
      "Epoch:  6 \tTrainLoss:  18.054312151642097 \tTestLoss:  22.903122108453573\n",
      "Epoch:  7 \tTrainLoss:  18.03773341696317 \tTestLoss:  23.050122483914066\n",
      "Epoch:  8 \tTrainLoss:  17.957474680514203 \tTestLoss:  23.153652647894297\n",
      "Epoch:  9 \tTrainLoss:  17.95521662834031 \tTestLoss:  23.30457739214437\n",
      "5 -------------\n",
      "Epoch:  0 \tTrainLoss:  1.2629096306342005 \tTestLoss:  1.3154830221284093\n",
      "Epoch:  1 \tTrainLoss:  1.2608595844848522 \tTestLoss:  1.3163090520879297\n",
      "Epoch:  2 \tTrainLoss:  1.2587649596959456 \tTestLoss:  1.3171481874023778\n",
      "Epoch:  3 \tTrainLoss:  1.2566227739223328 \tTestLoss:  1.3180022498909534\n",
      "Epoch:  4 \tTrainLoss:  1.2544298496243314 \tTestLoss:  1.3188733988518575\n",
      "Epoch:  5 \tTrainLoss:  1.2521828408589022 \tTestLoss:  1.3197642182754754\n",
      "Epoch:  6 \tTrainLoss:  1.2498782908114248 \tTestLoss:  1.320677831046759\n",
      "Epoch:  7 \tTrainLoss:  1.247512739563841 \tTestLoss:  1.3216180491640885\n",
      "Epoch:  8 \tTrainLoss:  1.2450829129057652 \tTestLoss:  1.3225895715728213\n",
      "Epoch:  9 \tTrainLoss:  1.2425860402248017 \tTestLoss:  1.323598243555296\n",
      "6 -------------\n",
      "Epoch:  0 \tTrainLoss:  20.36629070610014 \tTestLoss:  21.55287381376315\n",
      "Epoch:  1 \tTrainLoss:  20.35567819273435 \tTestLoss:  21.55719979568568\n",
      "Epoch:  2 \tTrainLoss:  20.344988564261982 \tTestLoss:  21.56154697363508\n",
      "Epoch:  3 \tTrainLoss:  20.33421998787277 \tTestLoss:  21.565916262430672\n",
      "Epoch:  4 \tTrainLoss:  20.32337057159794 \tTestLoss:  21.570308627762365\n",
      "Epoch:  5 \tTrainLoss:  20.312438362362613 \tTestLoss:  21.5747250901554\n",
      "Epoch:  6 \tTrainLoss:  20.301421344053168 \tTestLoss:  21.579166729312725\n",
      "Epoch:  7 \tTrainLoss:  20.29031743562105 \tTestLoss:  21.583634688877265\n",
      "Epoch:  8 \tTrainLoss:  20.279124489248805 \tTestLoss:  21.588130181661214\n",
      "Epoch:  9 \tTrainLoss:  20.2678402886097 \tTestLoss:  21.592654495395468\n",
      "7 -------------\n",
      "Epoch:  0 \tTrainLoss:  1.2627545632006818 \tTestLoss:  1.3154830221284093\n",
      "Epoch:  1 \tTrainLoss:  1.2627132177021663 \tTestLoss:  1.315499536945043\n",
      "Epoch:  2 \tTrainLoss:  1.2626718538521844 \tTestLoss:  1.3155160566695454\n",
      "Epoch:  3 \tTrainLoss:  1.2626304716241024 \tTestLoss:  1.315532581314623\n",
      "Epoch:  4 \tTrainLoss:  1.2625890709912295 \tTestLoss:  1.3155491108930255\n",
      "Epoch:  5 \tTrainLoss:  1.2625476519268244 \tTestLoss:  1.3155656454175435\n",
      "Epoch:  6 \tTrainLoss:  1.2625062144040908 \tTestLoss:  1.3155821849010094\n",
      "Epoch:  7 \tTrainLoss:  1.2624647583961799 \tTestLoss:  1.3155987293562987\n",
      "Epoch:  8 \tTrainLoss:  1.262423283876188 \tTestLoss:  1.3156152787963278\n",
      "Epoch:  9 \tTrainLoss:  1.2623817908171597 \tTestLoss:  1.3156318332340564\n",
      "8 -------------\n",
      "Epoch:  0 \tTrainLoss:  20.3623850275182 \tTestLoss:  21.55287381376315\n",
      "Epoch:  1 \tTrainLoss:  20.341029489607553 \tTestLoss:  21.561542104891544\n",
      "Epoch:  2 \tTrainLoss:  20.319355609915625 \tTestLoss:  21.57029867152168\n",
      "Epoch:  3 \tTrainLoss:  20.297347882183157 \tTestLoss:  21.579151433844356\n",
      "Epoch:  4 \tTrainLoss:  20.27498979362952 \tTestLoss:  21.588109255192016\n",
      "Epoch:  5 \tTrainLoss:  20.25226376974814 \tTestLoss:  21.597182100774656\n",
      "Epoch:  6 \tTrainLoss:  20.229151127226487 \tTestLoss:  21.606381229404032\n",
      "Epoch:  7 \tTrainLoss:  20.205632041426995 \tTestLoss:  21.61571942622634\n",
      "Epoch:  8 \tTrainLoss:  20.18168553793716 \tTestLoss:  21.62521128663396\n",
      "Epoch:  9 \tTrainLoss:  20.15728952215035 \tTestLoss:  21.634873564262193\n",
      "9 -------------\n",
      "Epoch:  0 \tTrainLoss:  1.262757694481836 \tTestLoss:  1.3154830221284093\n",
      "Epoch:  1 \tTrainLoss:  1.2626750170045036 \tTestLoss:  1.3155160519962896\n",
      "Epoch:  2 \tTrainLoss:  1.262592266154769 \tTestLoss:  1.3155491015221665\n",
      "Epoch:  3 \tTrainLoss:  1.2625094417198452 \tTestLoss:  1.3155821708079833\n",
      "Epoch:  4 \tTrainLoss:  1.2624265434861 \tTestLoss:  1.3156152599563498\n",
      "Epoch:  5 \tTrainLoss:  1.2623435712390507 \tTestLoss:  1.3156483690705525\n",
      "Epoch:  6 \tTrainLoss:  1.2622605247633647 \tTestLoss:  1.3156814982545582\n",
      "Epoch:  7 \tTrainLoss:  1.2621774038428493 \tTestLoss:  1.315714647613021\n",
      "Epoch:  8 \tTrainLoss:  1.2620942082604536 \tTestLoss:  1.3157478172512889\n",
      "Epoch:  9 \tTrainLoss:  1.262010937798264 \tTestLoss:  1.3157810072754095\n",
      "10 -------------\n",
      "Epoch:  0 \tTrainLoss:  20.14329918953187 \tTestLoss:  21.55287381376315\n",
      "Epoch:  1 \tTrainLoss:  19.37365184178454 \tTestLoss:  21.812596943366845\n",
      "Epoch:  2 \tTrainLoss:  18.68434931461145 \tTestLoss:  22.09320252899089\n",
      "Epoch:  3 \tTrainLoss:  18.535212590049685 \tTestLoss:  22.331687016018144\n",
      "Epoch:  4 \tTrainLoss:  18.514631977030316 \tTestLoss:  22.508810014388565\n",
      "Epoch:  5 \tTrainLoss:  18.27114290930054 \tTestLoss:  22.72711134069644\n",
      "Epoch:  6 \tTrainLoss:  18.054312151642097 \tTestLoss:  22.903122108453573\n",
      "Epoch:  7 \tTrainLoss:  18.03773341696317 \tTestLoss:  23.050122483914066\n",
      "Epoch:  8 \tTrainLoss:  17.957474680514203 \tTestLoss:  23.153652647894297\n",
      "Epoch:  9 \tTrainLoss:  17.95521662834031 \tTestLoss:  23.30457739214437\n",
      "11 -------------\n",
      "Epoch:  0 \tTrainLoss:  1.2629096306342005 \tTestLoss:  1.3154830221284093\n",
      "Epoch:  1 \tTrainLoss:  1.2608595844848522 \tTestLoss:  1.3163090520879297\n",
      "Epoch:  2 \tTrainLoss:  1.2587649596959456 \tTestLoss:  1.3171481874023778\n",
      "Epoch:  3 \tTrainLoss:  1.2566227739223328 \tTestLoss:  1.3180022498909534\n",
      "Epoch:  4 \tTrainLoss:  1.2544298496243314 \tTestLoss:  1.3188733988518575\n",
      "Epoch:  5 \tTrainLoss:  1.2521828408589022 \tTestLoss:  1.3197642182754754\n",
      "Epoch:  6 \tTrainLoss:  1.2498782908114248 \tTestLoss:  1.320677831046759\n",
      "Epoch:  7 \tTrainLoss:  1.247512739563841 \tTestLoss:  1.3216180491640885\n",
      "Epoch:  8 \tTrainLoss:  1.2450829129057652 \tTestLoss:  1.3225895715728213\n",
      "Epoch:  9 \tTrainLoss:  1.2425860402248017 \tTestLoss:  1.323598243555296\n"
     ]
    }
   ],
   "source": [
    "Layer_Dimensions_0D = [[256, 683], [256, 683]]\n",
    "Losses_0D =create_table_of_hyperparameters(Train_DF, Test_DF, Layer_Dimensions_0D, Learning_Rates, NumberOfEpochs, BatchSizes)"
   ]
  },
  {
   "cell_type": "code",
   "execution_count": 117,
   "metadata": {},
   "outputs": [
    {
     "name": "stdout",
     "output_type": "stream",
     "text": [
      "  Layer Dimension | LR | BatchSize, epoch| Loss\n"
     ]
    },
    {
     "data": {
      "text/plain": [
       "{'[256, 683] 0.005 10 32 Train Loss': 20.2678402886097,\n",
       " '[256, 683] 0.005 10 32 Test Loss': 21.55287381376315,\n",
       " '[256, 683] 0.005 10 512 Train Loss': 1.2623817908171597,\n",
       " '[256, 683] 0.005 10 512 Test Loss': 1.3154830221284093,\n",
       " '[256, 683] 0.01 10 32 Train Loss': 20.15728952215035,\n",
       " '[256, 683] 0.01 10 32 Test Loss': 21.55287381376315,\n",
       " '[256, 683] 0.01 10 512 Train Loss': 1.262010937798264,\n",
       " '[256, 683] 0.01 10 512 Test Loss': 1.3154830221284093,\n",
       " '[256, 683] 0.25 10 32 Train Loss': 17.95521662834031,\n",
       " '[256, 683] 0.25 10 32 Test Loss': 21.55287381376315,\n",
       " '[256, 683] 0.25 10 512 Train Loss': 1.2425860402248017,\n",
       " '[256, 683] 0.25 10 512 Test Loss': 1.3154830221284093}"
      ]
     },
     "execution_count": 117,
     "metadata": {},
     "output_type": "execute_result"
    }
   ],
   "source": [
    "print(\"  Layer Dimension | LR | BatchSize, epoch| Loss\")\n",
    "Losses_0D"
   ]
  },
  {
   "cell_type": "code",
   "execution_count": 118,
   "metadata": {},
   "outputs": [
    {
     "name": "stdout",
     "output_type": "stream",
     "text": [
      "  Layer Dimension | LR | BatchSize, epoch| Loss\n"
     ]
    },
    {
     "data": {
      "text/plain": [
       "{'[256, 32, 683] 0.005 10 32 Train Loss': 20.378996381842935,\n",
       " '[256, 32, 683] 0.005 10 32 Test Loss': 21.436183843903574,\n",
       " '[256, 32, 683] 0.005 10 512 Train Loss': 1.2633454404393532,\n",
       " '[256, 32, 683] 0.005 10 512 Test Loss': 1.3083144013977601,\n",
       " '[256, 32, 683] 0.01 10 32 Train Loss': 20.378275318280526,\n",
       " '[256, 32, 683] 0.01 10 32 Test Loss': 21.436183843903574,\n",
       " '[256, 32, 683] 0.01 10 512 Train Loss': 1.2633380206866145,\n",
       " '[256, 32, 683] 0.01 10 512 Test Loss': 1.3083144013977601,\n",
       " '[256, 32, 683] 0.25 10 32 Train Loss': 20.270619966988026,\n",
       " '[256, 32, 683] 0.25 10 32 Test Loss': 21.436183843903574,\n",
       " '[256, 32, 683] 0.25 10 512 Train Loss': 1.2631566770985068,\n",
       " '[256, 32, 683] 0.25 10 512 Test Loss': 1.3083144013977601,\n",
       " '[256, 256, 683] 0.005 10 32 Train Loss': 20.380422839738515,\n",
       " '[256, 256, 683] 0.005 10 32 Test Loss': 21.43123997781088,\n",
       " '[256, 256, 683] 0.005 10 512 Train Loss': 1.263569582449897,\n",
       " '[256, 256, 683] 0.005 10 512 Test Loss': 1.3080318539940672,\n",
       " '[256, 256, 683] 0.01 10 32 Train Loss': 20.377807857000168,\n",
       " '[256, 256, 683] 0.01 10 32 Test Loss': 21.43144202180772,\n",
       " '[256, 256, 683] 0.01 10 512 Train Loss': 1.2635323620278482,\n",
       " '[256, 256, 683] 0.01 10 512 Test Loss': 1.3079781571854954,\n",
       " '[256, 256, 683] 0.25 10 32 Train Loss': 19.641469714993452,\n",
       " '[256, 256, 683] 0.25 10 32 Test Loss': 21.433736317489984,\n",
       " '[256, 256, 683] 0.25 10 512 Train Loss': 1.2630369475368075,\n",
       " '[256, 256, 683] 0.25 10 512 Test Loss': 1.307972469452456}"
      ]
     },
     "execution_count": 118,
     "metadata": {},
     "output_type": "execute_result"
    }
   ],
   "source": [
    "print(\"  Layer Dimension | LR | BatchSize, epoch| Loss\")\n",
    "Losses_1D"
   ]
  },
  {
   "cell_type": "code",
   "execution_count": 119,
   "metadata": {},
   "outputs": [
    {
     "name": "stdout",
     "output_type": "stream",
     "text": [
      "  Layer Dimension | LR | BatchSize, epoch| Loss\n"
     ]
    },
    {
     "data": {
      "text/plain": [
       "{'[256, 32, 16, 683] 0.005 10 32 Train Loss': 20.379758308545114,\n",
       " '[256, 32, 16, 683] 0.005 10 32 Test Loss': 21.436405659966944,\n",
       " '[256, 32, 16, 683] 0.005 10 512 Train Loss': 1.2633441724476422,\n",
       " '[256, 32, 16, 683] 0.005 10 512 Test Loss': 1.3083250915628744,\n",
       " '[256, 32, 16, 683] 0.01 10 32 Train Loss': 20.379148784767192,\n",
       " '[256, 32, 16, 683] 0.01 10 32 Test Loss': 21.436405659966944,\n",
       " '[256, 32, 16, 683] 0.01 10 512 Train Loss': 1.2633415938317891,\n",
       " '[256, 32, 16, 683] 0.01 10 512 Test Loss': 1.3083250915628744,\n",
       " '[256, 32, 16, 683] 0.25 10 32 Train Loss': 0.0,\n",
       " '[256, 32, 16, 683] 0.25 10 32 Test Loss': 0.0,\n",
       " '[256, 32, 16, 683] 0.25 10 512 Train Loss': 1.2632269148498017,\n",
       " '[256, 32, 16, 683] 0.25 10 512 Test Loss': 1.3083250915628744,\n",
       " '[256, 512, 256, 683] 0.005 10 32 Train Loss': 20.03002417503015,\n",
       " '[256, 512, 256, 683] 0.005 10 32 Test Loss': 21.43734330244646,\n",
       " '[256, 512, 256, 683] 0.005 10 512 Train Loss': 1.2633008045868463,\n",
       " '[256, 512, 256, 683] 0.005 10 512 Test Loss': 1.308400655400447,\n",
       " '[256, 512, 256, 683] 0.01 10 32 Train Loss': 0.0,\n",
       " '[256, 512, 256, 683] 0.01 10 32 Test Loss': 0.0,\n",
       " '[256, 512, 256, 683] 0.01 10 512 Train Loss': 1.26327666877037,\n",
       " '[256, 512, 256, 683] 0.01 10 512 Test Loss': 1.308400655400447,\n",
       " '[256, 512, 256, 683] 0.25 10 32 Train Loss': 0.0,\n",
       " '[256, 512, 256, 683] 0.25 10 32 Test Loss': 0.0,\n",
       " '[256, 512, 256, 683] 0.25 10 512 Train Loss': 1.2628551097937102,\n",
       " '[256, 512, 256, 683] 0.25 10 512 Test Loss': 1.3083259181731932}"
      ]
     },
     "execution_count": 119,
     "metadata": {},
     "output_type": "execute_result"
    }
   ],
   "source": [
    "print(\"  Layer Dimension | LR | BatchSize, epoch| Loss\")\n",
    "Losses_2D"
   ]
  },
  {
   "cell_type": "markdown",
   "metadata": {},
   "source": [
    "### Conclusion on Neural Network with no Hidden Layer:\n",
    "* Increasing **the neuron number in hidden layers** did notwork for this network.\n",
    "* This **maybe** because **the model is underfitting or not complex enough** to solve the problem.\n",
    "* The **losses are high,** so **I tried with** Neural Network **with 1 Hidden Layer**."
   ]
  },
  {
   "cell_type": "markdown",
   "metadata": {},
   "source": [
    "### Conclusion on Neural Network with 1 Hidden Layer:\n",
    "* Increasing **the neuron number in hidden layers** did sometimes worked for this network.\n",
    "* This **maybe** because **the model is not overfitting, it needs tuning** to solve the problem.\n",
    "* But the **losses are smaller**, so the **1 Layer-Model is better than 2-Layer Model**. for this dataset."
   ]
  },
  {
   "cell_type": "markdown",
   "metadata": {},
   "source": [
    "### Conclusion on Neural Network with 2 Hidden Layers:\n",
    "* Increasing **the neuron number in hidden layers** did not work in this case.\n",
    "* This **maybe** because **the model is already complex enough** to solve the problem.\n",
    "* But the **losses are not small**, so the **model is not good**."
   ]
  },
  {
   "cell_type": "markdown",
   "metadata": {},
   "source": [
    "## Conclusions on General Neural Network:\n",
    "* The **loss is high**, number of **correct predicions are low.**\n",
    "* Accucacy did not go furher **3%**.\n",
    "* This maybe because the **dataset is noisy.**\n",
    "* There are **so many classes** but **not enough instances** for the classes."
   ]
  },
  {
   "cell_type": "markdown",
   "metadata": {},
   "source": [
    "### A Neural Network did not do well on this dataset, so now let's try to classify with Convolutional Neural Network.\n"
   ]
  },
  {
   "cell_type": "markdown",
   "metadata": {},
   "source": [
    "## 3 Convolutional Neural Network\n",
    "***\n",
    "### 1 Read Input\n"
   ]
  },
  {
   "cell_type": "code",
   "execution_count": 122,
   "metadata": {},
   "outputs": [],
   "source": [
    "import torch\n",
    "import torchvision\n",
    "import torchvision.transforms as transforms\n",
    "import os\n",
    "import pandas as pd\n",
    "import numpy as np\n",
    "from torch.utils.data import Dataset, DataLoader\n",
    "from PIL import Image\n",
    "\n",
    "cuda = torch.device('cuda')\n",
    "\n",
    "# Read Input Files\n",
    "Files = os.listdir(dir)\n",
    "Labels = pd.read_csv('Train_Info.csv')\n",
    "\n",
    "for i in range(len(Files)):\n",
    "    Files[i] = Files[i].split(\".\")[0]\n",
    "Files.sort(key=int)\n",
    "for i in range(len(Files)):\n",
    "    Files[i] = Files[i] + \".jpg\"\n",
    "\n",
    "Labels_shuffled = Labels['Id'].sample(frac=1)\n",
    "Files_shuffled = np.array(Files)\n",
    "\n",
    "# X = all data, m = # of examples\n",
    "X = np.zeros((34225, 32*32))\n",
    "m = (Labels.shape[0])\n",
    "for i in range(m):\n",
    "    img = np.array(Image.open(dir + Files[i]).convert('L').resize((32, 32))) / 255.\n",
    "    img = img.reshape(1, -1)\n",
    "    X[i] = img\n",
    "Y = Labels['Class'][Labels_shuffled]\n",
    "\n",
    "# Create numpy arrays\n",
    "lenTrain = int(4 * (X.shape[0] / 5))\n",
    "x_Train = X[:lenTrain]\n",
    "y_Train = Y[:lenTrain]\n",
    "x_Test = X[lenTrain:]\n",
    "y_Test = Y[lenTrain:]"
   ]
  },
  {
   "cell_type": "markdown",
   "metadata": {},
   "source": [
    "### 1.1 Create a DataFrame to see the input"
   ]
  },
  {
   "cell_type": "code",
   "execution_count": 123,
   "metadata": {},
   "outputs": [],
   "source": [
    "# This takes approx. 3-4 minutes since dataset is large.\n",
    "df_Train = pd.DataFrame(x_Train, y_Train)\n",
    "df_Test  = pd.DataFrame(x_Test, y_Test)"
   ]
  },
  {
   "cell_type": "code",
   "execution_count": 147,
   "metadata": {},
   "outputs": [
    {
     "data": {
      "text/html": [
       "<div>\n",
       "<style scoped>\n",
       "    .dataframe tbody tr th:only-of-type {\n",
       "        vertical-align: middle;\n",
       "    }\n",
       "\n",
       "    .dataframe tbody tr th {\n",
       "        vertical-align: top;\n",
       "    }\n",
       "\n",
       "    .dataframe thead th {\n",
       "        text-align: right;\n",
       "    }\n",
       "</style>\n",
       "<table border=\"1\" class=\"dataframe\">\n",
       "  <thead>\n",
       "    <tr style=\"text-align: right;\">\n",
       "      <th></th>\n",
       "      <th>0</th>\n",
       "      <th>1</th>\n",
       "      <th>2</th>\n",
       "      <th>3</th>\n",
       "      <th>4</th>\n",
       "      <th>5</th>\n",
       "      <th>6</th>\n",
       "      <th>7</th>\n",
       "      <th>8</th>\n",
       "      <th>9</th>\n",
       "      <th>...</th>\n",
       "      <th>1014</th>\n",
       "      <th>1015</th>\n",
       "      <th>1016</th>\n",
       "      <th>1017</th>\n",
       "      <th>1018</th>\n",
       "      <th>1019</th>\n",
       "      <th>1020</th>\n",
       "      <th>1021</th>\n",
       "      <th>1022</th>\n",
       "      <th>1023</th>\n",
       "    </tr>\n",
       "    <tr>\n",
       "      <th>Class</th>\n",
       "      <th></th>\n",
       "      <th></th>\n",
       "      <th></th>\n",
       "      <th></th>\n",
       "      <th></th>\n",
       "      <th></th>\n",
       "      <th></th>\n",
       "      <th></th>\n",
       "      <th></th>\n",
       "      <th></th>\n",
       "      <th></th>\n",
       "      <th></th>\n",
       "      <th></th>\n",
       "      <th></th>\n",
       "      <th></th>\n",
       "      <th></th>\n",
       "      <th></th>\n",
       "      <th></th>\n",
       "      <th></th>\n",
       "      <th></th>\n",
       "      <th></th>\n",
       "    </tr>\n",
       "  </thead>\n",
       "  <tbody>\n",
       "    <tr>\n",
       "      <td>356</td>\n",
       "      <td>0.090196</td>\n",
       "      <td>0.454902</td>\n",
       "      <td>0.121569</td>\n",
       "      <td>0.145098</td>\n",
       "      <td>0.137255</td>\n",
       "      <td>0.090196</td>\n",
       "      <td>0.149020</td>\n",
       "      <td>0.101961</td>\n",
       "      <td>0.219608</td>\n",
       "      <td>0.286275</td>\n",
       "      <td>...</td>\n",
       "      <td>0.015686</td>\n",
       "      <td>0.011765</td>\n",
       "      <td>0.007843</td>\n",
       "      <td>0.011765</td>\n",
       "      <td>0.007843</td>\n",
       "      <td>0.000000</td>\n",
       "      <td>0.000000</td>\n",
       "      <td>0.000000</td>\n",
       "      <td>0.015686</td>\n",
       "      <td>0.007843</td>\n",
       "    </tr>\n",
       "    <tr>\n",
       "      <td>443</td>\n",
       "      <td>0.043137</td>\n",
       "      <td>0.168627</td>\n",
       "      <td>0.062745</td>\n",
       "      <td>0.113725</td>\n",
       "      <td>0.133333</td>\n",
       "      <td>0.121569</td>\n",
       "      <td>0.168627</td>\n",
       "      <td>0.176471</td>\n",
       "      <td>0.184314</td>\n",
       "      <td>0.090196</td>\n",
       "      <td>...</td>\n",
       "      <td>0.007843</td>\n",
       "      <td>0.003922</td>\n",
       "      <td>0.007843</td>\n",
       "      <td>0.007843</td>\n",
       "      <td>0.003922</td>\n",
       "      <td>0.007843</td>\n",
       "      <td>0.011765</td>\n",
       "      <td>0.000000</td>\n",
       "      <td>0.019608</td>\n",
       "      <td>0.007843</td>\n",
       "    </tr>\n",
       "    <tr>\n",
       "      <td>256</td>\n",
       "      <td>0.015686</td>\n",
       "      <td>0.309804</td>\n",
       "      <td>0.058824</td>\n",
       "      <td>0.149020</td>\n",
       "      <td>0.098039</td>\n",
       "      <td>0.176471</td>\n",
       "      <td>0.286275</td>\n",
       "      <td>0.380392</td>\n",
       "      <td>0.254902</td>\n",
       "      <td>0.090196</td>\n",
       "      <td>...</td>\n",
       "      <td>0.007843</td>\n",
       "      <td>0.000000</td>\n",
       "      <td>0.000000</td>\n",
       "      <td>0.000000</td>\n",
       "      <td>0.000000</td>\n",
       "      <td>0.000000</td>\n",
       "      <td>0.003922</td>\n",
       "      <td>0.000000</td>\n",
       "      <td>0.007843</td>\n",
       "      <td>0.007843</td>\n",
       "    </tr>\n",
       "    <tr>\n",
       "      <td>97</td>\n",
       "      <td>0.000000</td>\n",
       "      <td>0.400000</td>\n",
       "      <td>0.117647</td>\n",
       "      <td>0.125490</td>\n",
       "      <td>0.074510</td>\n",
       "      <td>0.090196</td>\n",
       "      <td>0.156863</td>\n",
       "      <td>0.168627</td>\n",
       "      <td>0.247059</td>\n",
       "      <td>0.156863</td>\n",
       "      <td>...</td>\n",
       "      <td>0.000000</td>\n",
       "      <td>0.000000</td>\n",
       "      <td>0.000000</td>\n",
       "      <td>0.000000</td>\n",
       "      <td>0.000000</td>\n",
       "      <td>0.000000</td>\n",
       "      <td>0.000000</td>\n",
       "      <td>0.000000</td>\n",
       "      <td>0.000000</td>\n",
       "      <td>0.000000</td>\n",
       "    </tr>\n",
       "    <tr>\n",
       "      <td>655</td>\n",
       "      <td>0.278431</td>\n",
       "      <td>0.192157</td>\n",
       "      <td>0.101961</td>\n",
       "      <td>0.090196</td>\n",
       "      <td>0.117647</td>\n",
       "      <td>0.152941</td>\n",
       "      <td>0.137255</td>\n",
       "      <td>0.172549</td>\n",
       "      <td>0.254902</td>\n",
       "      <td>0.345098</td>\n",
       "      <td>...</td>\n",
       "      <td>0.078431</td>\n",
       "      <td>0.015686</td>\n",
       "      <td>0.035294</td>\n",
       "      <td>0.039216</td>\n",
       "      <td>0.039216</td>\n",
       "      <td>0.039216</td>\n",
       "      <td>0.035294</td>\n",
       "      <td>0.031373</td>\n",
       "      <td>0.023529</td>\n",
       "      <td>0.003922</td>\n",
       "    </tr>\n",
       "    <tr>\n",
       "      <td>...</td>\n",
       "      <td>...</td>\n",
       "      <td>...</td>\n",
       "      <td>...</td>\n",
       "      <td>...</td>\n",
       "      <td>...</td>\n",
       "      <td>...</td>\n",
       "      <td>...</td>\n",
       "      <td>...</td>\n",
       "      <td>...</td>\n",
       "      <td>...</td>\n",
       "      <td>...</td>\n",
       "      <td>...</td>\n",
       "      <td>...</td>\n",
       "      <td>...</td>\n",
       "      <td>...</td>\n",
       "      <td>...</td>\n",
       "      <td>...</td>\n",
       "      <td>...</td>\n",
       "      <td>...</td>\n",
       "      <td>...</td>\n",
       "      <td>...</td>\n",
       "    </tr>\n",
       "    <tr>\n",
       "      <td>252</td>\n",
       "      <td>0.156863</td>\n",
       "      <td>0.078431</td>\n",
       "      <td>0.321569</td>\n",
       "      <td>0.164706</td>\n",
       "      <td>0.180392</td>\n",
       "      <td>0.164706</td>\n",
       "      <td>0.149020</td>\n",
       "      <td>0.200000</td>\n",
       "      <td>0.180392</td>\n",
       "      <td>0.184314</td>\n",
       "      <td>...</td>\n",
       "      <td>0.043137</td>\n",
       "      <td>0.039216</td>\n",
       "      <td>0.027451</td>\n",
       "      <td>0.023529</td>\n",
       "      <td>0.039216</td>\n",
       "      <td>0.047059</td>\n",
       "      <td>0.035294</td>\n",
       "      <td>0.027451</td>\n",
       "      <td>0.043137</td>\n",
       "      <td>0.070588</td>\n",
       "    </tr>\n",
       "    <tr>\n",
       "      <td>355</td>\n",
       "      <td>0.000000</td>\n",
       "      <td>0.078431</td>\n",
       "      <td>0.180392</td>\n",
       "      <td>0.152941</td>\n",
       "      <td>0.141176</td>\n",
       "      <td>0.133333</td>\n",
       "      <td>0.113725</td>\n",
       "      <td>0.074510</td>\n",
       "      <td>0.043137</td>\n",
       "      <td>0.050980</td>\n",
       "      <td>...</td>\n",
       "      <td>0.007843</td>\n",
       "      <td>0.007843</td>\n",
       "      <td>0.007843</td>\n",
       "      <td>0.007843</td>\n",
       "      <td>0.003922</td>\n",
       "      <td>0.003922</td>\n",
       "      <td>0.000000</td>\n",
       "      <td>0.023529</td>\n",
       "      <td>0.000000</td>\n",
       "      <td>0.035294</td>\n",
       "    </tr>\n",
       "    <tr>\n",
       "      <td>670</td>\n",
       "      <td>0.003922</td>\n",
       "      <td>0.054902</td>\n",
       "      <td>0.113725</td>\n",
       "      <td>0.101961</td>\n",
       "      <td>0.098039</td>\n",
       "      <td>0.094118</td>\n",
       "      <td>0.082353</td>\n",
       "      <td>0.047059</td>\n",
       "      <td>0.027451</td>\n",
       "      <td>0.011765</td>\n",
       "      <td>...</td>\n",
       "      <td>0.027451</td>\n",
       "      <td>0.031373</td>\n",
       "      <td>0.035294</td>\n",
       "      <td>0.035294</td>\n",
       "      <td>0.035294</td>\n",
       "      <td>0.035294</td>\n",
       "      <td>0.039216</td>\n",
       "      <td>0.027451</td>\n",
       "      <td>0.011765</td>\n",
       "      <td>0.000000</td>\n",
       "    </tr>\n",
       "    <tr>\n",
       "      <td>8</td>\n",
       "      <td>0.007843</td>\n",
       "      <td>0.070588</td>\n",
       "      <td>0.090196</td>\n",
       "      <td>0.133333</td>\n",
       "      <td>0.129412</td>\n",
       "      <td>0.125490</td>\n",
       "      <td>0.117647</td>\n",
       "      <td>0.078431</td>\n",
       "      <td>0.047059</td>\n",
       "      <td>0.039216</td>\n",
       "      <td>...</td>\n",
       "      <td>0.000000</td>\n",
       "      <td>0.000000</td>\n",
       "      <td>0.003922</td>\n",
       "      <td>0.003922</td>\n",
       "      <td>0.000000</td>\n",
       "      <td>0.000000</td>\n",
       "      <td>0.000000</td>\n",
       "      <td>0.015686</td>\n",
       "      <td>0.000000</td>\n",
       "      <td>0.000000</td>\n",
       "    </tr>\n",
       "    <tr>\n",
       "      <td>77</td>\n",
       "      <td>0.427451</td>\n",
       "      <td>0.062745</td>\n",
       "      <td>0.047059</td>\n",
       "      <td>0.152941</td>\n",
       "      <td>0.247059</td>\n",
       "      <td>0.168627</td>\n",
       "      <td>0.160784</td>\n",
       "      <td>0.164706</td>\n",
       "      <td>0.184314</td>\n",
       "      <td>0.184314</td>\n",
       "      <td>...</td>\n",
       "      <td>0.031373</td>\n",
       "      <td>0.023529</td>\n",
       "      <td>0.003922</td>\n",
       "      <td>0.003922</td>\n",
       "      <td>0.000000</td>\n",
       "      <td>0.015686</td>\n",
       "      <td>0.007843</td>\n",
       "      <td>0.023529</td>\n",
       "      <td>0.019608</td>\n",
       "      <td>0.000000</td>\n",
       "    </tr>\n",
       "  </tbody>\n",
       "</table>\n",
       "<p>27380 rows × 1024 columns</p>\n",
       "</div>"
      ],
      "text/plain": [
       "           0         1         2         3         4         5         6     \\\n",
       "Class                                                                         \n",
       "356    0.090196  0.454902  0.121569  0.145098  0.137255  0.090196  0.149020   \n",
       "443    0.043137  0.168627  0.062745  0.113725  0.133333  0.121569  0.168627   \n",
       "256    0.015686  0.309804  0.058824  0.149020  0.098039  0.176471  0.286275   \n",
       "97     0.000000  0.400000  0.117647  0.125490  0.074510  0.090196  0.156863   \n",
       "655    0.278431  0.192157  0.101961  0.090196  0.117647  0.152941  0.137255   \n",
       "...         ...       ...       ...       ...       ...       ...       ...   \n",
       "252    0.156863  0.078431  0.321569  0.164706  0.180392  0.164706  0.149020   \n",
       "355    0.000000  0.078431  0.180392  0.152941  0.141176  0.133333  0.113725   \n",
       "670    0.003922  0.054902  0.113725  0.101961  0.098039  0.094118  0.082353   \n",
       "8      0.007843  0.070588  0.090196  0.133333  0.129412  0.125490  0.117647   \n",
       "77     0.427451  0.062745  0.047059  0.152941  0.247059  0.168627  0.160784   \n",
       "\n",
       "           7         8         9     ...      1014      1015      1016  \\\n",
       "Class                                ...                                 \n",
       "356    0.101961  0.219608  0.286275  ...  0.015686  0.011765  0.007843   \n",
       "443    0.176471  0.184314  0.090196  ...  0.007843  0.003922  0.007843   \n",
       "256    0.380392  0.254902  0.090196  ...  0.007843  0.000000  0.000000   \n",
       "97     0.168627  0.247059  0.156863  ...  0.000000  0.000000  0.000000   \n",
       "655    0.172549  0.254902  0.345098  ...  0.078431  0.015686  0.035294   \n",
       "...         ...       ...       ...  ...       ...       ...       ...   \n",
       "252    0.200000  0.180392  0.184314  ...  0.043137  0.039216  0.027451   \n",
       "355    0.074510  0.043137  0.050980  ...  0.007843  0.007843  0.007843   \n",
       "670    0.047059  0.027451  0.011765  ...  0.027451  0.031373  0.035294   \n",
       "8      0.078431  0.047059  0.039216  ...  0.000000  0.000000  0.003922   \n",
       "77     0.164706  0.184314  0.184314  ...  0.031373  0.023529  0.003922   \n",
       "\n",
       "           1017      1018      1019      1020      1021      1022      1023  \n",
       "Class                                                                        \n",
       "356    0.011765  0.007843  0.000000  0.000000  0.000000  0.015686  0.007843  \n",
       "443    0.007843  0.003922  0.007843  0.011765  0.000000  0.019608  0.007843  \n",
       "256    0.000000  0.000000  0.000000  0.003922  0.000000  0.007843  0.007843  \n",
       "97     0.000000  0.000000  0.000000  0.000000  0.000000  0.000000  0.000000  \n",
       "655    0.039216  0.039216  0.039216  0.035294  0.031373  0.023529  0.003922  \n",
       "...         ...       ...       ...       ...       ...       ...       ...  \n",
       "252    0.023529  0.039216  0.047059  0.035294  0.027451  0.043137  0.070588  \n",
       "355    0.007843  0.003922  0.003922  0.000000  0.023529  0.000000  0.035294  \n",
       "670    0.035294  0.035294  0.035294  0.039216  0.027451  0.011765  0.000000  \n",
       "8      0.003922  0.000000  0.000000  0.000000  0.015686  0.000000  0.000000  \n",
       "77     0.003922  0.000000  0.015686  0.007843  0.023529  0.019608  0.000000  \n",
       "\n",
       "[27380 rows x 1024 columns]"
      ]
     },
     "execution_count": 147,
     "metadata": {},
     "output_type": "execute_result"
    }
   ],
   "source": [
    "df_Train"
   ]
  },
  {
   "cell_type": "markdown",
   "metadata": {},
   "source": [
    "### 2 PyTorch Custom Dataset and Dataloader Implementation\n",
    "#### 2.1 Dataset Class\n",
    "***"
   ]
  },
  {
   "cell_type": "code",
   "execution_count": 124,
   "metadata": {},
   "outputs": [],
   "source": [
    "# DATASET CREATION\n",
    "class Herbarium_Dataset(Dataset):\n",
    "    def __init__(self, Dataframe):\n",
    "        self.dataframe = Dataframe\n",
    "        self.labels = self.dataframe.index\n",
    "        \n",
    "    def __len__(self):\n",
    "        return len(self.dataframe.index)\n",
    "\n",
    "    def __getitem__(self, index):\n",
    "        single_image_label = self.labels[index]\n",
    "        img_as_np = self.dataframe.iloc[index].values.reshape(1, 32, 32)\n",
    "        img_as_tensor = torch.tensor(img_as_np).float().cuda()\n",
    "        return(img_as_tensor, single_image_label)"
   ]
  },
  {
   "cell_type": "markdown",
   "metadata": {},
   "source": [
    "#### 2.2 Dataloader Implementation"
   ]
  },
  {
   "cell_type": "code",
   "execution_count": 125,
   "metadata": {},
   "outputs": [],
   "source": [
    "# DATALODER\n",
    "train_set = Herbarium_Dataset(df_Train)\n",
    "train_loader = torch.utils.data.DataLoader(dataset=train_set, batch_size=10, shuffle=False)"
   ]
  },
  {
   "cell_type": "markdown",
   "metadata": {},
   "source": [
    "* **See a sample image from dataset to check if the images are taken correctly.**"
   ]
  },
  {
   "cell_type": "code",
   "execution_count": 126,
   "metadata": {},
   "outputs": [
    {
     "name": "stdout",
     "output_type": "stream",
     "text": [
      "Label: 356\n",
      "torch.Size([1, 32, 32])\n"
     ]
    },
    {
     "data": {
      "text/plain": [
       "<matplotlib.image.AxesImage at 0x2e3361c7e08>"
      ]
     },
     "execution_count": 126,
     "metadata": {},
     "output_type": "execute_result"
    },
    {
     "data": {
      "image/png": "[encoded data removed]",
      "text/plain": [
       "<Figure size 432x288 with 1 Axes>"
      ]
     },
     "metadata": {
      "needs_background": "light"
     },
     "output_type": "display_data"
    }
   ],
   "source": [
    "# Show a sample picture-label pair, to see if the data is taken correctly.\n",
    "# Sometimes the image is not shown.\n",
    "# In that case, please re-run this cell.\n",
    "\n",
    "sample = next(iter(train_set))\n",
    "image, label = sample\n",
    "import matplotlib.pyplot as plt\n",
    "print(\"Label:\", label)\n",
    "print(image.shape)\n",
    "imsq = image.squeeze()\n",
    "plt.imshow(imsq.cpu(), cmap='gray')"
   ]
  },
  {
   "cell_type": "markdown",
   "metadata": {},
   "source": [
    "* **Now let's see a sample image batch.**"
   ]
  },
  {
   "cell_type": "code",
   "execution_count": 127,
   "metadata": {},
   "outputs": [
    {
     "name": "stdout",
     "output_type": "stream",
     "text": [
      "2\n",
      "torch.Size([10, 1, 32, 32]) torch.Size([10])\n",
      "labels: tensor([356, 443, 256,  97, 655, 514, 495, 315,  14,  94])\n"
     ]
    },
    {
     "data": {
      "image/png": "[encoded data removed]",
      "text/plain": [
       "<Figure size 1080x1080 with 1 Axes>"
      ]
     },
     "metadata": {
      "needs_background": "light"
     },
     "output_type": "display_data"
    }
   ],
   "source": [
    "# See a sample batch\n",
    "batch = next(iter(train_loader))\n",
    "print(len(batch))\n",
    "images, labels = batch\n",
    "print(images.shape, labels.shape)\n",
    "\n",
    "grid = torchvision.utils.make_grid(images,nrow=10)\n",
    "plt.figure(figsize=(15,15))\n",
    "plt.imshow(np.transpose(grid.cpu(), (1,2,0)))\n",
    "print(\"labels:\", labels)"
   ]
  },
  {
   "cell_type": "code",
   "execution_count": 128,
   "metadata": {},
   "outputs": [],
   "source": [
    "def number_of_correct_predictions(preds, labels):\n",
    "    return preds.argmax(dim=1).eq(labels).sum().item()"
   ]
  },
  {
   "cell_type": "markdown",
   "metadata": {},
   "source": [
    "### 3 Creating a CNN with 1 Convolutional and 1 Fully Connected Layer\n",
    "***"
   ]
  },
  {
   "cell_type": "code",
   "execution_count": 133,
   "metadata": {},
   "outputs": [],
   "source": [
    "import torch.nn as nn\n",
    "import torch.nn.functional as F\n",
    "\n",
    "class Network_1D(nn.Module):\n",
    "    def __init__(self, outChannels, kernelSize):\n",
    "        super(Network_1D, self).__init__()\n",
    "        self.sz = 32\n",
    "        self.outChannels = outChannels\n",
    "        self.conv = nn.Conv2d(in_channels=1, out_channels=outChannels, kernel_size=kernelSize)\n",
    "        self.sz = int((self.sz - kernelSize + 1) / 2)\n",
    "        self.fc = nn.Linear(in_features=outChannels*self.sz*self.sz, out_features=683)\n",
    "        \n",
    "    def forward(self, x):\n",
    "        x = self.conv(x)\n",
    "        x = F.relu(x)\n",
    "        x = F.max_pool2d(x, kernel_size=2, stride=2)\n",
    "        x = x.reshape(-1, self.outChannels*self.sz*self.sz)\n",
    "        x = self.fc(x)\n",
    "        return x"
   ]
  },
  {
   "cell_type": "markdown",
   "metadata": {},
   "source": [
    "### 3 (Cont'd) Creating a CNN with 2 Convolutional and 2 Fully Connected Layers\n",
    "***"
   ]
  },
  {
   "cell_type": "code",
   "execution_count": 134,
   "metadata": {},
   "outputs": [],
   "source": [
    "class Network_2D(nn.Module):\n",
    "    def __init__(self, filters1, filters2, kernelSize1, kernelSize2):\n",
    "        super(Network_2D, self).__init__()\n",
    "        self.sz = 32\n",
    "        self.filters2 = filters2\n",
    "        self.conv1 = nn.Conv2d(in_channels=1, out_channels=filters1, kernel_size=kernelSize1)\n",
    "        self.sz = int((self.sz - kernelSize1 + 1) / 2)\n",
    "        self.conv2 = nn.Conv2d(in_channels=filters1, out_channels=filters2, kernel_size=kernelSize2)\n",
    "        self.sz = int((self.sz - kernelSize2 + 1) / 2)\n",
    "        self.fc1 = nn.Linear(in_features=filters2*self.sz*self.sz, out_features=256)\n",
    "        self.out = nn.Linear(in_features=256, out_features=683)\n",
    "    def forward(self, x):\n",
    "        x = self.conv1(x)\n",
    "        x = F.relu(x)\n",
    "        x = F.max_pool2d(x, kernel_size=2, stride=2)\n",
    "        \n",
    "        x = self.conv2(x)\n",
    "        x = F.relu(x)\n",
    "        x = F.max_pool2d(x, kernel_size=2, stride=2)\n",
    "\n",
    "        x = x.reshape(-1, self.filters2*self.sz*self.sz)\n",
    "        x = self.fc1(x)\n",
    "        x = F.relu(x)\n",
    "        \n",
    "        x = self.out(x)\n",
    "        return x"
   ]
  },
  {
   "cell_type": "markdown",
   "metadata": {},
   "source": [
    "#### Dataloader for Test set.\n",
    "***"
   ]
  },
  {
   "cell_type": "code",
   "execution_count": 131,
   "metadata": {},
   "outputs": [],
   "source": [
    "# DATALODER\n",
    "test_set = Herbarium_Dataset(df_Test)\n",
    "test_loader = torch.utils.data.DataLoader(dataset=test_set, batch_size=10, shuffle=False)"
   ]
  },
  {
   "cell_type": "code",
   "execution_count": 132,
   "metadata": {},
   "outputs": [],
   "source": [
    "import torch.optim as optim"
   ]
  },
  {
   "cell_type": "markdown",
   "metadata": {},
   "source": [
    "### A Dynamic CNN Model Creator.\n",
    "#### All parameters, hyperparameters are dynamic.\n",
    "***"
   ]
  },
  {
   "cell_type": "code",
   "execution_count": 149,
   "metadata": {},
   "outputs": [],
   "source": [
    "def CNNModel(layer_number, filters, kernels, learning_rate):\n",
    "    if layer_number == 1: # 1 Conv. + 1 F.C\n",
    "        filter_number = filters[0]\n",
    "        kernel_size = kernels[0]\n",
    "        network = Network_1D(filter_number, kernel_size).float().cuda()\n",
    "    elif layer_number == 2: # 2 Conv. + 2 F.C\n",
    "        conv1_filter_number = filters[0]\n",
    "        conv2_filter_number = filters[1]\n",
    "        kernel_size1 = kernels[0]\n",
    "        kernel_size2 = kernels[0]\n",
    "        network = Network_2D(conv1_filter_number, conv2_filter_number, kernel_size1, kernel_size2).float().cuda()\n",
    "    else:\n",
    "        return\n",
    "    optimizer = optim.Adam(network.parameters(), lr=learning_rate)\n",
    "    \n",
    "    costs_train = []\n",
    "    costs_test = []\n",
    "\n",
    "    for epoch in range(10):\n",
    "        train_correct = 0\n",
    "        total_train_loss = 0\n",
    "        total_test_loss = 0\n",
    "        test_correct = 0\n",
    "        \n",
    "        for test_batch in test_loader:\n",
    "            test_images, test_labels = test_batch\n",
    "            test_images = test_images.to(cuda) \n",
    "            test_labels = test_labels.to(cuda)\n",
    "\n",
    "            test_preds = network(test_images)\n",
    "            test_loss = F.cross_entropy(test_preds, test_labels)\n",
    "\n",
    "            test_correct += number_of_correct_predictions(test_preds, test_labels)\n",
    "            total_test_loss += test_loss.item()\n",
    "\n",
    "\n",
    "        print(\"Epoch: \", epoch, \"\\tTest Correct: \", test_correct, \"\\tTest Loss: \", total_test_loss)\n",
    "\n",
    "        for train_batch in train_loader:\n",
    "            train_images, train_labels = train_batch\n",
    "            train_images = train_images.to(cuda) # Shrink the images for speed-up.\n",
    "            train_labels = train_labels.cuda()\n",
    "\n",
    "            train_preds = network(train_images)\n",
    "            train_loss = F.cross_entropy(train_preds, train_labels)\n",
    "\n",
    "            optimizer.zero_grad()\n",
    "            train_loss.backward()\n",
    "            optimizer.step()\n",
    "\n",
    "            train_correct += number_of_correct_predictions(train_preds, train_labels)\n",
    "            total_train_loss += train_loss.item()\n",
    "\n",
    "            train_acc = (train_correct/ 27380)\n",
    "\n",
    "        print(\"Epoch: \", epoch, \"\\tTrain Correct: \", train_correct, \"\\tTrain Loss: \", total_train_loss)\n",
    "\n",
    "\n",
    "        total_train_loss /= (27380) # Train size\n",
    "        total_test_loss /= (6485)   # Test size\n",
    "        total_train_loss *= (100) # Train size\n",
    "        total_test_loss *= (100)   # Test size\n",
    "\n",
    "        costs_train.append(total_train_loss)\n",
    "        costs_test.append(total_test_loss)\n",
    "\n",
    "    Costs = [costs_train, costs_test]\n",
    "    return Costs\n",
    "\n",
    "        "
   ]
  },
  {
   "cell_type": "markdown",
   "metadata": {},
   "source": [
    "### Let's run a CNN with 1 convolutional and 1 fully connected layer.\n",
    "* **Filter Number:** 4\n",
    "* **Kernel_Size:** 3\n",
    "* **Learning_Rate:** 0.001"
   ]
  },
  {
   "cell_type": "code",
   "execution_count": 150,
   "metadata": {},
   "outputs": [
    {
     "name": "stdout",
     "output_type": "stream",
     "text": [
      "Epoch:  0 \tTest Correct:  5 \tTest Loss:  4480.420942783356\n",
      "Epoch:  0 \tTrain Correct:  489 \tTrain Loss:  16853.20157957077\n",
      "Epoch:  1 \tTest Correct:  119 \tTest Loss:  4177.349000930786\n",
      "Epoch:  1 \tTrain Correct:  570 \tTrain Loss:  15926.79074048996\n",
      "Epoch:  2 \tTest Correct:  111 \tTest Loss:  4250.114805698395\n",
      "Epoch:  2 \tTrain Correct:  1282 \tTrain Loss:  14196.436348199844\n",
      "Epoch:  3 \tTest Correct:  93 \tTest Loss:  4548.577342033386\n",
      "Epoch:  3 \tTrain Correct:  5090 \tTrain Loss:  12028.131178736687\n",
      "Epoch:  4 \tTest Correct:  61 \tTest Loss:  4865.939621448517\n",
      "Epoch:  4 \tTrain Correct:  6966 \tTrain Loss:  10671.240388095379\n",
      "Epoch:  5 \tTest Correct:  48 \tTest Loss:  5168.798989772797\n",
      "Epoch:  5 \tTrain Correct:  8615 \tTrain Loss:  9586.49985179305\n",
      "Epoch:  6 \tTest Correct:  40 \tTest Loss:  5517.880096435547\n",
      "Epoch:  6 \tTrain Correct:  10083 \tTrain Loss:  8684.02825781703\n",
      "Epoch:  7 \tTest Correct:  40 \tTest Loss:  5880.196539878845\n",
      "Epoch:  7 \tTrain Correct:  11381 \tTrain Loss:  7934.717553906143\n",
      "Epoch:  8 \tTest Correct:  38 \tTest Loss:  6278.773433685303\n",
      "Epoch:  8 \tTrain Correct:  12500 \tTrain Loss:  7298.02863612771\n",
      "Epoch:  9 \tTest Correct:  41 \tTest Loss:  6673.727025985718\n",
      "Epoch:  9 \tTrain Correct:  13487 \tTrain Loss:  6739.161269903183\n"
     ]
    }
   ],
   "source": [
    "Costs = CNNModel(1, [4], [3], 0.001)"
   ]
  },
  {
   "cell_type": "markdown",
   "metadata": {},
   "source": [
    "#### For 1-Layer CNN:\n",
    "* As seen, the Train Accuracy increases and Train Loss decreases.\n",
    "* But, the **Test** Accuracy and Loss **is not good**\n",
    "* But let's see the **plots** of the **train-test losses**"
   ]
  },
  {
   "cell_type": "code",
   "execution_count": 153,
   "metadata": {},
   "outputs": [
    {
     "data": {
      "image/png": "[encoded data removed]",
      "text/plain": [
       "<Figure size 432x288 with 1 Axes>"
      ]
     },
     "metadata": {
      "needs_background": "light"
     },
     "output_type": "display_data"
    },
    {
     "data": {
      "image/png": "[encoded data removed]",
      "text/plain": [
       "<Figure size 432x288 with 1 Axes>"
      ]
     },
     "metadata": {
      "needs_background": "light"
     },
     "output_type": "display_data"
    }
   ],
   "source": [
    "plot(Costs[0], 10, str(0.001), 'orange')\n",
    "plot(Costs[1], 10, str(0.001), 'blue')"
   ]
  },
  {
   "cell_type": "markdown",
   "metadata": {},
   "source": [
    "* **There is obviously an overfit.**\n",
    "### Let's change the learning rate and filter numbers to change this situation:\n",
    "***"
   ]
  },
  {
   "cell_type": "code",
   "execution_count": 156,
   "metadata": {},
   "outputs": [
    {
     "name": "stdout",
     "output_type": "stream",
     "text": [
      "Epoch:  0 \tTest Correct:  7 \tTest Loss:  4499.316502094269\n",
      "Epoch:  0 \tTrain Correct:  491 \tTrain Loss:  16952.523940563202\n",
      "Epoch:  1 \tTest Correct:  110 \tTest Loss:  4185.173414230347\n",
      "Epoch:  1 \tTrain Correct:  574 \tTrain Loss:  16003.217898368835\n",
      "Epoch:  2 \tTest Correct:  101 \tTest Loss:  4205.807156562805\n",
      "Epoch:  2 \tTrain Correct:  1342 \tTrain Loss:  14460.731867074966\n",
      "Epoch:  3 \tTest Correct:  101 \tTest Loss:  4313.037302494049\n",
      "Epoch:  3 \tTrain Correct:  5243 \tTrain Loss:  11993.797260284424\n",
      "Epoch:  4 \tTest Correct:  84 \tTest Loss:  4519.487265586853\n",
      "Epoch:  4 \tTrain Correct:  8359 \tTrain Loss:  10086.226264357567\n",
      "Epoch:  5 \tTest Correct:  65 \tTest Loss:  4764.6599197387695\n",
      "Epoch:  5 \tTrain Correct:  11053 \tTrain Loss:  8552.762924313545\n",
      "Epoch:  6 \tTest Correct:  55 \tTest Loss:  5058.596551418304\n",
      "Epoch:  6 \tTrain Correct:  13201 \tTrain Loss:  7269.046713382006\n",
      "Epoch:  7 \tTest Correct:  51 \tTest Loss:  5400.499565124512\n",
      "Epoch:  7 \tTrain Correct:  15043 \tTrain Loss:  6213.260844051838\n",
      "Epoch:  8 \tTest Correct:  50 \tTest Loss:  5770.006325244904\n",
      "Epoch:  8 \tTrain Correct:  16661 \tTrain Loss:  5346.396443068981\n",
      "Epoch:  9 \tTest Correct:  49 \tTest Loss:  6181.188841819763\n",
      "Epoch:  9 \tTrain Correct:  17952 \tTrain Loss:  4632.0770752727985\n"
     ]
    }
   ],
   "source": [
    "Costs3 = CNNModel(1, [12], [3], 0.0005)"
   ]
  },
  {
   "cell_type": "code",
   "execution_count": 157,
   "metadata": {},
   "outputs": [
    {
     "data": {
      "image/png": "[encoded data removed]",
      "text/plain": [
       "<Figure size 432x288 with 1 Axes>"
      ]
     },
     "metadata": {
      "needs_background": "light"
     },
     "output_type": "display_data"
    },
    {
     "data": {
      "image/png": "[encoded data removed]",
      "text/plain": [
       "<Figure size 432x288 with 1 Axes>"
      ]
     },
     "metadata": {
      "needs_background": "light"
     },
     "output_type": "display_data"
    }
   ],
   "source": [
    "plot(Costs3[0], 10, str(0.005), 'orange')\n",
    "plot(Costs3[1], 10, str(0.005), 'blue')"
   ]
  },
  {
   "cell_type": "markdown",
   "metadata": {},
   "source": [
    "* **We still can't prevent overfitting.** \n",
    "* **This occurs because the dataset is noisy, it has too many classes with too few instances and training it succesfully is difficult.**\n",
    "\n",
    "***\n",
    "### Finally, let's try with a 2-layer CNN.\n",
    "### Input -> Conv1 -> ReLU -> MaxPool(2) -> Conv2 -> ReLU -> MaxPool(2) -> FC1 -> ReLU -> Output"
   ]
  },
  {
   "cell_type": "code",
   "execution_count": 152,
   "metadata": {},
   "outputs": [
    {
     "name": "stdout",
     "output_type": "stream",
     "text": [
      "Epoch:  0 \tTest Correct:  8 \tTest Loss:  4467.770988941193\n",
      "Epoch:  0 \tTrain Correct:  496 \tTrain Loss:  16771.725048065186\n",
      "Epoch:  1 \tTest Correct:  121 \tTest Loss:  4160.058896064758\n",
      "Epoch:  1 \tTrain Correct:  508 \tTrain Loss:  16619.620559692383\n",
      "Epoch:  2 \tTest Correct:  121 \tTest Loss:  4158.514805316925\n",
      "Epoch:  2 \tTrain Correct:  521 \tTrain Loss:  16614.031011104584\n",
      "Epoch:  3 \tTest Correct:  121 \tTest Loss:  4158.738823413849\n",
      "Epoch:  3 \tTrain Correct:  517 \tTrain Loss:  16595.129398822784\n",
      "Epoch:  4 \tTest Correct:  121 \tTest Loss:  4158.714196205139\n",
      "Epoch:  4 \tTrain Correct:  525 \tTrain Loss:  16581.116263389587\n",
      "Epoch:  5 \tTest Correct:  124 \tTest Loss:  4159.638205051422\n",
      "Epoch:  5 \tTrain Correct:  515 \tTrain Loss:  16552.379406929016\n",
      "Epoch:  6 \tTest Correct:  129 \tTest Loss:  4170.136677265167\n",
      "Epoch:  6 \tTrain Correct:  510 \tTrain Loss:  16534.431879997253\n",
      "Epoch:  7 \tTest Correct:  115 \tTest Loss:  4195.900575637817\n",
      "Epoch:  7 \tTrain Correct:  510 \tTrain Loss:  16530.476702213287\n",
      "Epoch:  8 \tTest Correct:  121 \tTest Loss:  4215.990103721619\n",
      "Epoch:  8 \tTrain Correct:  524 \tTrain Loss:  16521.93269920349\n",
      "Epoch:  9 \tTest Correct:  111 \tTest Loss:  4178.476305484772\n",
      "Epoch:  9 \tTrain Correct:  530 \tTrain Loss:  16497.513308525085\n"
     ]
    }
   ],
   "source": [
    "Costs2 = CNNModel(2, [4, 8], [3, 3], 0.001)"
   ]
  },
  {
   "cell_type": "code",
   "execution_count": 154,
   "metadata": {},
   "outputs": [
    {
     "data": {
      "image/png": "[encoded data removed]",
      "text/plain": [
       "<Figure size 432x288 with 1 Axes>"
      ]
     },
     "metadata": {
      "needs_background": "light"
     },
     "output_type": "display_data"
    },
    {
     "data": {
      "image/png": "[encoded data removed]",
      "text/plain": [
       "<Figure size 432x288 with 1 Axes>"
      ]
     },
     "metadata": {
      "needs_background": "light"
     },
     "output_type": "display_data"
    }
   ],
   "source": [
    "plot(Costs2[0], 10, str(0.001), 'orange')\n",
    "plot(Costs2[1], 10, str(0.001), 'blue')"
   ]
  },
  {
   "cell_type": "markdown",
   "metadata": {},
   "source": [
    "* **Changing the layer numbers did not work.**"
   ]
  },
  {
   "cell_type": "markdown",
   "metadata": {},
   "source": [
    "# FINAL CONCLUSION\n",
    "## Neural Network:\n",
    "* Dataset contains **34225 images and 683 classes**.\n",
    "* **For every class**, approximately **50 images.**\n",
    "* This number is **not enough for training** the neural network.\n",
    "* In this notebook, **30 different combinations of Neural Networks** have been **trained.**\n",
    "* None of them was successful, due to the dataset.\n",
    "* Increasing Train Accuracy caused Test Loss.\n",
    "* Making **few epochs** caused **underfit.**\n",
    "* Making **more epochs** caused **overfit.**\n",
    "* **Incrementing learning rate** caused **overfit.**\n",
    "* **Decrementing learning rate** caused **slow converge.**\n",
    "* The **only useful** activation functions were **'ReLU'** and **'Softmax'.**\n",
    "* The Train **Accuracy** of NN **was about 18-20%.**\n",
    "* The Test **Accuracy** of NN **was about 4%.**\n",
    "* These values are not good, compared to CNN..\n",
    "****\n",
    "## Convolutional Neural Network:\n",
    "* Since the **CNN Training takes much longer time** than a NN, the total **number of cases is smaller.(3)**\n",
    "* **CNN was more successful** and better **compared to the Neural Network**, because **it applies different filters** and **different pooling methods** to modify the images and **take new and more useful features** about them.\n",
    "* **These features, learning rates, batch sizes** were again **dynamic** and 3 different combinations of them have been tried.\n",
    "* **Using more filters caused overfit.**\n",
    "* **Using less filters caused underfit.**\n",
    "* The Train **Accuracy** of CNN **was about 66%.**\n",
    "* The Test **Accuracy** of CNN **was about 10%.**\n",
    "* These values can be considered good, assuming the insufficiency of the dataset."
   ]
  }
 ],
 "metadata": {
  "kernelspec": {
   "display_name": "Python 3",
   "language": "python",
   "name": "python3"
  },
  "language_info": {
   "codemirror_mode": {
    "name": "ipython",
    "version": 3
   },
   "file_extension": ".py",
   "mimetype": "text/x-python",
   "name": "python",
   "nbconvert_exporter": "python",
   "pygments_lexer": "ipython3",
   "version": "3.7.4"
  }
 },
 "nbformat": 4,
 "nbformat_minor": 2
}
