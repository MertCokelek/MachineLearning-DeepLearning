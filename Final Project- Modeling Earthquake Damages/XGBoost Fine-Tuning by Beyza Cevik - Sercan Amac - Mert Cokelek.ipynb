{
 "cells": [
  {
   "cell_type": "code",
   "execution_count": 0,
   "metadata": {
    "colab": {
     "base_uri": "https://localhost:8080/",
     "height": 34
    },
    "colab_type": "code",
    "id": "wWySdCiS27Vy",
    "outputId": "a0f6a8a9-85c8-4faa-d64f-9fe3cb5c8c2e"
   },
   "outputs": [
    {
     "name": "stdout",
     "output_type": "stream",
     "text": [
      "(260601, 38)\n"
     ]
    }
   ],
   "source": [
    "import xgboost as xgb\n",
    "from sklearn.model_selection import train_test_split\n",
    "import pandas as pd\n",
    "import numpy as np\n",
    "import numpy as np\n",
    "from sklearn.metrics import precision_score, recall_score, accuracy_score\n",
    "\n",
    "train = pd.read_csv(\"train_values.csv\")\n",
    "train_labels = pd.read_csv(\"train_labels.csv\")\n",
    "for col_name in train.columns:\n",
    "    if(train[col_name].dtype != 'int64'):\n",
    "        train[col_name] = train[col_name].astype('category')\n",
    "        train[col_name] = train[col_name].cat.codes\n",
    "train = train.iloc[:,1:].values\n",
    "print(train.shape)\n",
    "\n",
    "train_labels = train_labels.iloc[:,1:].values\n",
    "train_labels = train_labels-1\n",
    "X_train,X_test,Y_train,Y_test = train_test_split(train, train_labels, test_size=0.10, random_state=42)"
   ]
  },
  {
   "cell_type": "code",
   "execution_count": 0,
   "metadata": {
    "colab": {
     "base_uri": "https://localhost:8080/",
     "height": 306
    },
    "colab_type": "code",
    "id": "8qTTOGD28oh3",
    "outputId": "778eef88-0c81-4164-f1cd-d362abbc0689"
   },
   "outputs": [
    {
     "name": "stderr",
     "output_type": "stream",
     "text": [
      "/usr/local/lib/python3.6/dist-packages/sklearn/preprocessing/label.py:219: DataConversionWarning: A column-vector y was passed when a 1d array was expected. Please change the shape of y to (n_samples, ), for example using ravel().\n",
      "  y = column_or_1d(y, warn=True)\n",
      "/usr/local/lib/python3.6/dist-packages/sklearn/preprocessing/label.py:252: DataConversionWarning: A column-vector y was passed when a 1d array was expected. Please change the shape of y to (n_samples, ), for example using ravel().\n",
      "  y = column_or_1d(y, warn=True)\n"
     ]
    },
    {
     "name": "stdout",
     "output_type": "stream",
     "text": [
      "3 0.6528661611330127\n",
      "5 0.6803691085721604\n",
      "7 0.6986530978598395\n",
      "9 0.715687077965974\n",
      "11 0.7256911401453155\n",
      "13 0.7339209676135977\n",
      "15 0.7341196391731655\n",
      "17 0.7345250323523669\n",
      "19 0.7329191612463368\n",
      "21 0.7288755852441918\n",
      "23 0.7286032869842046\n",
      "25 0.7269707854520194\n"
     ]
    }
   ],
   "source": [
    "from sklearn.metrics import f1_score\n",
    "results = []\n",
    "\n",
    "\n",
    "depths = range(3, 26, 2)\n",
    "for depth in depths:\n",
    "    clf = xgb.XGBClassifier(tree_method='gpu_hist', gpu_id=0, n_jobs=4, random_state=42, max_depth=depth)\n",
    "    clf.fit(X_train, Y_train)\n",
    "\n",
    "    predtest = clf.predict(X_test)\n",
    "\n",
    "\n",
    "    f1_test_w = f1_score(Y_test, predtest, average='weighted')\n",
    "\n",
    "    print(depth, f1_test_w)\n",
    "    results.append(f1_test_w)\n",
    "\n",
    "\n"
   ]
  },
  {
   "cell_type": "code",
   "execution_count": 10,
   "metadata": {},
   "outputs": [
    {
     "data": {
      "image/png": "[encoded data removed]",
      "text/plain": [
       "<Figure size 432x288 with 1 Axes>"
      ]
     },
     "metadata": {
      "needs_background": "light"
     },
     "output_type": "display_data"
    }
   ],
   "source": [
    "results = [0.6528, 0.68, 0.699, 0.715, 0.725, 0.733, 0.7341, 0.7345, 0.733, 0.7288, 0.7286, 0.7269]\n",
    "import matplotlib.pyplot as plt\n",
    "plt.plot(range(3, 26, 2), results, '-o', color='orange', label='f1 score')\n",
    "plt.legend()\n",
    "plt.title(\"F1 Score of XGBoost wrt Max. Depth of GBTree\")\n",
    "plt.xlabel(\"Max. Depth\")\n",
    "plt.ylabel(\"F1 Score\")\n",
    "plt.grid()\n",
    "plt.show()"
   ]
  }
 ],
 "metadata": {
  "accelerator": "GPU",
  "colab": {
   "name": "4.ipynb",
   "provenance": []
  },
  "kernelspec": {
   "display_name": "Python 3",
   "language": "python",
   "name": "python3"
  },
  "language_info": {
   "codemirror_mode": {
    "name": "ipython",
    "version": 3
   },
   "file_extension": ".py",
   "mimetype": "text/x-python",
   "name": "python",
   "nbconvert_exporter": "python",
   "pygments_lexer": "ipython3",
   "version": "3.7.4"
  }
 },
 "nbformat": 4,
 "nbformat_minor": 1
}
